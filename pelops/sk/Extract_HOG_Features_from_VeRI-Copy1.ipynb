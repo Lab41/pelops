{
 "cells": [
  {
   "cell_type": "code",
   "execution_count": 1,
   "metadata": {
    "collapsed": true
   },
   "outputs": [],
   "source": [
    "#!pip install imageio\n",
    "#!conda install opencv3 -y\n",
    "#!conda install hdfs3 -c conda-forge"
   ]
  },
  {
   "cell_type": "code",
   "execution_count": 2,
   "metadata": {
    "collapsed": false,
    "scrolled": true
   },
   "outputs": [],
   "source": [
    "#import imageio\n",
    "#imageio.plugins.ffmpeg.download()"
   ]
  },
  {
   "cell_type": "code",
   "execution_count": 1,
   "metadata": {
    "collapsed": false
   },
   "outputs": [],
   "source": [
    "from pelops.features.hog import HOGFeatureProducer\n",
    "from pelops.datasets.veri import VeriDataset\n",
    "from pelops.datasets.featuredataset import FeatureDataset"
   ]
  },
  {
   "cell_type": "code",
   "execution_count": 2,
   "metadata": {
    "collapsed": false
   },
   "outputs": [
    {
     "name": "stdout",
     "output_type": "stream",
     "text": [
      "VeRI Version 1.0 found! Patching `typeID=0` to `typeID=2`.\n",
      "See: https://github.com/Lab41/pelops/issues/76\n"
     ]
    }
   ],
   "source": [
    "veri_test = VeriDataset(\"/local_data/teams/pelops/datasets/VeRi\", \"test\")\n",
    "hog_features_test = HOGFeatureProducer(veri_test)\n",
    "\n",
    "veri_train = VeriDataset(\"/local_data/teams/pelops/datasets/VeRi\", \"train\")\n",
    "hog_features_train = HOGFeatureProducer(veri_train)"
   ]
  },
  {
   "cell_type": "code",
   "execution_count": 3,
   "metadata": {
    "collapsed": false
   },
   "outputs": [
    {
     "name": "stderr",
     "output_type": "stream",
     "text": [
      "/opt/conda/lib/python3.5/site-packages/numpy/core/numeric.py:301: FutureWarning: in the future, full(768, -1) will return an array of dtype('int64')\n",
      "  format(shape, fill_value, array(fill_value).dtype), FutureWarning)\n"
     ]
    }
   ],
   "source": [
    "chip_keys, chips, feats = hog_features_test.return_features()\n",
    "OUTPUT = \"/tmp/veri_test_hog_histo.hdf5\"\n",
    "FeatureDataset.save(OUTPUT, chip_keys, chips, feats)"
   ]
  },
  {
   "cell_type": "code",
   "execution_count": 6,
   "metadata": {
    "collapsed": true
   },
   "outputs": [],
   "source": [
    "chip_keys, chips, feats = hog_features_train.return_features()\n",
    "OUTPUT = \"./veri_train_hog_histo.hdf5\"\n",
    "FeatureDataset.save(OUTPUT, chip_keys, chips, feats)"
   ]
  }
 ],
 "metadata": {
  "kernelspec": {
   "display_name": "Python 3",
   "language": "python",
   "name": "python3"
  },
  "language_info": {
   "codemirror_mode": {
    "name": "ipython",
    "version": 3
   },
   "file_extension": ".py",
   "mimetype": "text/x-python",
   "name": "python",
   "nbconvert_exporter": "python",
   "pygments_lexer": "ipython3",
   "version": "3.5.2"
  }
 },
 "nbformat": 4,
 "nbformat_minor": 2
}
