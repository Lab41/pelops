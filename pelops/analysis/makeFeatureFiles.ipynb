{
 "cells": [
  {
   "cell_type": "code",
   "execution_count": null,
   "metadata": {},
   "outputs": [],
   "source": [
    "from pelops.datasets.veri import VeriDataset\n",
    "from pelops.analysis.unsorted.recompute.extract_feats_from_chips import extract_feats_from_chips\n",
    "import pelops.utils as utils\n"
   ]
  },
  {
   "cell_type": "code",
   "execution_count": null,
   "metadata": {},
   "outputs": [],
   "source": [
    "model_output_file = '/local_data/dgrossman/model_save_dir/dgcars_resenet-body_type.model.json'\n",
    "weights_output_file = '/local_data/dgrossman/model_save_dir/dgcars_resenet-body_type.weights.hdf5'\n",
    "layer = 'avg_pool'"
   ]
  },
  {
   "cell_type": "code",
   "execution_count": null,
   "metadata": {},
   "outputs": [],
   "source": [
    "veri = VeriDataset('/local_data/dgrossman/VeRi',\n",
    "                   set_type=utils.SetType.TRAIN.value)\n",
    "extract_feats_from_chips(veri, '/local_data/dgrossman/image_body_type',\n",
    "                   model_output_file,\n",
    "                   weights_output_file,\n",
    "                   layer)"
   ]
  },
  {
   "cell_type": "code",
   "execution_count": null,
   "metadata": {},
   "outputs": [],
   "source": [
    "model_output_file = '/local_data/dgrossman/model_save_dir/dgcars_resenet-color.model.json'\n",
    "weights_output_file = '/local_data/dgrossman/model_save_dir/dgcars_resenet-color.weights.hdf5'\n",
    "layer = 'avg_pool'"
   ]
  },
  {
   "cell_type": "code",
   "execution_count": null,
   "metadata": {},
   "outputs": [],
   "source": [
    "veri = VeriDataset('/local_data/dgrossman/VeRi',\n",
    "                   set_type=utils.SetType.TRAIN.value)\n",
    "extract_feats_from_chips(veri, '/local_data/dgrossman/image_color_type',\n",
    "                   model_output_file,\n",
    "                   weights_output_file,\n",
    "                   layer)"
   ]
  },
  {
   "cell_type": "code",
   "execution_count": null,
   "metadata": {},
   "outputs": [],
   "source": [
    "model_output_file = '/local_data/dgrossman/model_save_dir/dgcars_resenet-color_body_type.model2.json'\n",
    "weights_output_file = '/local_data/dgrossman/model_save_dir/dgcars_resenet-color_body_type.weights2.hdf5'\n",
    "layer = 'avg_pool'"
   ]
  },
  {
   "cell_type": "code",
   "execution_count": null,
   "metadata": {},
   "outputs": [],
   "source": [
    "veri = VeriDataset('/local_data/dgrossman/VeRi',\n",
    "                   set_type=utils.SetType.TRAIN.value)\n",
    "extract_feats_from_chips(veri, '/local_data/dgrossman/image_color_body_type',\n",
    "                   model_output_file,\n",
    "                   weights_output_file,\n",
    "                   layer)"
   ]
  },
  {
   "cell_type": "code",
   "execution_count": null,
   "metadata": {},
   "outputs": [],
   "source": [
    "model_output_file = '/local_data/dgrossman/model_save_dir/dgcars_resenet-make_model.model.json'\n",
    "weights_output_file = '/local_data/dgrossman/model_save_dir/dgcars_resenet-make_model.weights.hdf5'\n",
    "layer = 'avg_pool'"
   ]
  },
  {
   "cell_type": "code",
   "execution_count": null,
   "metadata": {},
   "outputs": [],
   "source": [
    "veri = VeriDataset('/local_data/dgrossman/VeRi',\n",
    "                   set_type=utils.SetType.TRAIN.value)\n",
    "extract_feats_from_chips(veri, '/local_data/dgrossman/image_make_model_type',\n",
    "                   model_output_file,\n",
    "                   weights_output_file,\n",
    "                   layer)"
   ]
  },
  {
   "cell_type": "code",
   "execution_count": null,
   "metadata": {},
   "outputs": [],
   "source": [
    "model_output_file = '/local_data/dgrossman/model_save_dir/dgcars_resenet.model.json'\n",
    "weights_output_file = '/local_data/dgrossman/model_save_dir/dgcars_resenet.weights.hdf5'\n",
    "layer = 'avg_pool'"
   ]
  },
  {
   "cell_type": "code",
   "execution_count": null,
   "metadata": {},
   "outputs": [],
   "source": [
    "veri = VeriDataset('/local_data/dgrossman/VeRi',set_type=utils.SetType.TRAIN.value)\n",
    "extract_feats_from_chips(veri, '/local_data/dgrossman/resnet50',\n",
    "                   model_output_file,\n",
    "                   weights_output_file,\n",
    "                   layer)"
   ]
  },
  {
   "cell_type": "code",
   "execution_count": null,
   "metadata": {},
   "outputs": [],
   "source": [
    "model_output_file = '/local_data/dgrossman/model_save_dir/compcars_resenet-make_model.model.json'\n",
    "weights_output_file = '/local_data/dgrossman/model_save_dir/compcars_resenet-make_model.weights.hdf5'\n",
    "layer = 'avg_pool'"
   ]
  },
  {
   "cell_type": "code",
   "execution_count": null,
   "metadata": {},
   "outputs": [],
   "source": [
    "veri = VeriDataset('/local_data/dgrossman/VeRi',set_type=utils.SetType.TRAIN.value)\n",
    "extract_feats_from_chips(veri, '/local_data/dgrossman/compcars_make_model',\n",
    "                   model_output_file,\n",
    "                   weights_output_file,\n",
    "                   layer)"
   ]
  },
  {
   "cell_type": "code",
   "execution_count": null,
   "metadata": {},
   "outputs": [],
   "source": [
    "model_output_file = '/local_data/dgrossman/model_save_dir/compcars_resenet-colors.model.json'\n",
    "weights_output_file = '/local_data/dgrossman/model_save_dir/compcars_resenet-colors.weights.hdf5'\n",
    "layer = 'avg_pool'"
   ]
  },
  {
   "cell_type": "code",
   "execution_count": null,
   "metadata": {},
   "outputs": [],
   "source": [
    "veri = VeriDataset('/local_data/dgrossman/VeRi',set_type=utils.SetType.TRAIN.value)\n",
    "extract_feats_from_chips(veri, '/local_data/dgrossman/compcars_color',\n",
    "                   model_output_file,\n",
    "                   weights_output_file,\n",
    "                   layer)"
   ]
  },
  {
   "cell_type": "code",
   "execution_count": null,
   "metadata": {},
   "outputs": [],
   "source": [
    "1+1\n"
   ]
  },
  {
   "cell_type": "code",
   "execution_count": null,
   "metadata": {},
   "outputs": [],
   "source": []
  }
 ],
 "metadata": {
  "anaconda-cloud": {},
  "kernelspec": {
   "display_name": "Python 3",
   "language": "python",
   "name": "python3"
  },
  "language_info": {
   "codemirror_mode": {
    "name": "ipython",
    "version": 3
   },
   "file_extension": ".py",
   "mimetype": "text/x-python",
   "name": "python",
   "nbconvert_exporter": "python",
   "pygments_lexer": "ipython3",
   "version": "3.5.2"
  }
 },
 "nbformat": 4,
 "nbformat_minor": 2
}
