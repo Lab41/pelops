{
 "cells": [
  {
   "cell_type": "code",
   "execution_count": null,
   "metadata": {},
   "outputs": [],
   "source": [
    "import os\n",
    "from random import shuffle\n",
    "import glob\n",
    "import shutil\n",
    "import tqdm"
   ]
  },
  {
   "cell_type": "code",
   "execution_count": null,
   "metadata": {},
   "outputs": [],
   "source": [
    "def make_dir(path):\n",
    "    if not os.path.exists(path):\n",
    "        os.makedirs(path)"
   ]
  },
  {
   "cell_type": "code",
   "execution_count": null,
   "metadata": {},
   "outputs": [],
   "source": [
    "def move_link(src,dst):\n",
    "    real_src = os.path.realpath(src)\n",
    "    #print(real_src,dst)\n",
    "    os.symlink(real_src,dst)\n",
    "    os.unlink(src)\n",
    "    #os.rename(src,dst)"
   ]
  },
  {
   "cell_type": "code",
   "execution_count": null,
   "metadata": {},
   "outputs": [],
   "source": [
    "def prep_datasets(srcpath,destpath,percent=0.3):\n",
    "    \n",
    "    if percent >1 or percent < 0:\n",
    "        print ('bad')\n",
    "        raise ValueError('percent needs to be in [0,1]')\n",
    "    found = 0\n",
    "    moved = 0\n",
    "    for image_class_filepath in tqdm.tqdm(glob.glob(os.path.join(srcpath, '*'))):\n",
    "        \n",
    "        if os.path.isdir(image_class_filepath):\n",
    "            image_class_num = int(os.path.basename(image_class_filepath))\n",
    "            \n",
    "            directory_name = os.path.join(destpath, '{}'.format(image_class_num))\n",
    "            #print(directory_name)\n",
    "            make_dir(directory_name)\n",
    "            \n",
    "            dir_contents = list()\n",
    "                   \n",
    "            for filename in glob.glob(os.path.join(image_class_filepath, '*')):\n",
    "                found+=1\n",
    "                dir_contents.append(filename)\n",
    "            \n",
    "            \n",
    "            shuffle(dir_contents)\n",
    "            threshold = int (percent * len(dir_contents))\n",
    "            mixed = dir_contents[:threshold]\n",
    "            for filename in mixed:\n",
    "                moved +=1\n",
    "                #print ('filename:',os.path.basename(filename))\n",
    "                src = os.path.join(srcpath,'{}'.format(image_class_num),filename)\n",
    "                #print(directory_name,filename)\n",
    "                dst = os.path.join(directory_name,os.path.basename(filename))\n",
    "                #print('src:{0}\\ndst:{1}'.format(src,dst))\n",
    "                move_link(src,dst)\n",
    "    print('total:',found,'moved:',moved,'remains:',found-moved)"
   ]
  },
  {
   "cell_type": "code",
   "execution_count": null,
   "metadata": {},
   "outputs": [],
   "source": [
    "train = '/local_data/dgrossman/keras/color/train'\n",
    "test = '/local_data/dgrossman/keras/color/test'\n",
    "validate = '/local_data/dgrossman/keras/color/validate'"
   ]
  },
  {
   "cell_type": "code",
   "execution_count": null,
   "metadata": {},
   "outputs": [],
   "source": [
    "prep_datasets(train,test,0.3)"
   ]
  },
  {
   "cell_type": "code",
   "execution_count": null,
   "metadata": {},
   "outputs": [],
   "source": [
    "prep_datasets(test,validate,0.3)"
   ]
  },
  {
   "cell_type": "code",
   "execution_count": null,
   "metadata": {},
   "outputs": [],
   "source": []
  }
 ],
 "metadata": {
  "kernelspec": {
   "display_name": "Python 3",
   "language": "python",
   "name": "python3"
  },
  "language_info": {
   "codemirror_mode": {
    "name": "ipython",
    "version": 3
   },
   "file_extension": ".py",
   "mimetype": "text/x-python",
   "name": "python",
   "nbconvert_exporter": "python",
   "pygments_lexer": "ipython3",
   "version": "3.5.2"
  }
 },
 "nbformat": 4,
 "nbformat_minor": 2
}
