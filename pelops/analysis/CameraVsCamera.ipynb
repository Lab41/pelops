{
 "cells": [
  {
   "cell_type": "code",
   "execution_count": null,
   "metadata": {},
   "outputs": [],
   "source": [
    "cd '~/work/pelops'"
   ]
  },
  {
   "cell_type": "code",
   "execution_count": null,
   "metadata": {},
   "outputs": [],
   "source": [
    "%matplotlib inline\n",
    "import matplotlib.pyplot as plt\n",
    "#import time\n",
    "import numpy as np\n",
    "from pelops.datasets.featuredataset import FeatureDataset\n",
    "from pelops.experiment_api.experiment import ExperimentGenerator\n",
    "from pelops.datasets import chip\n",
    "from pelops.models.makesvm import train_svm\n",
    "from pelops.analysis.comparecameras import mad_matrix"
   ]
  },
  {
   "cell_type": "code",
   "execution_count": null,
   "metadata": {},
   "outputs": [],
   "source": [
    "ITEMSPERCAMERA = 2\n",
    "NUMCAMERAS = 2\n",
    "TRAIN_RANDOM=1024\n",
    "DROPPED=0\n",
    "TRAIN_FEATURES = '/Users/dgrossman/image_NEW_TRAIN'\n",
    "EXAMPLES = 1000 \n",
    "\n",
    "fd_train = FeatureDataset(TRAIN_FEATURES)\n",
    "eg_train = ExperimentGenerator(fd_train, NUMCAMERAS, ITEMSPERCAMERA, DROPPED, TRAIN_RANDOM)\n"
   ]
  },
  {
   "cell_type": "code",
   "execution_count": null,
   "metadata": {},
   "outputs": [],
   "source": [
    "clf_train = train_svm(EXAMPLES,fd_train,eg_train)\n"
   ]
  },
  {
   "cell_type": "code",
   "execution_count": null,
   "metadata": {},
   "outputs": [],
   "source": [
    "g_train,b_train = mad_matrix(EXAMPLES,clf_train,fd_train,eg_train,'cam')"
   ]
  },
  {
   "cell_type": "code",
   "execution_count": null,
   "metadata": {},
   "outputs": [],
   "source": [
    "ITEMSPERCAMERA = 2\n",
    "NUMCAMERAS = 2\n",
    "TEST_RANDOM=1024\n",
    "DROPPED=0\n",
    "TEST_FEATURES = '/Users/dgrossman/image_NEW_TEST'\n",
    "EXAMPLES = 1000\n",
    "\n",
    "fd_test = FeatureDataset(TEST_FEATURES)\n",
    "eg_test = ExperimentGenerator(fd_test,  NUMCAMERAS, ITEMSPERCAMERA, DROPPED, TEST_RANDOM)"
   ]
  },
  {
   "cell_type": "code",
   "execution_count": null,
   "metadata": {},
   "outputs": [],
   "source": [
    "g_test,b_test = mad_matrix(EXAMPLES,clf_train,fd_test,eg_test,'cam')"
   ]
  },
  {
   "cell_type": "code",
   "execution_count": null,
   "metadata": {},
   "outputs": [],
   "source": [
    "allset = set()\n",
    "for key in g_test.keys():\n",
    "    l,r = key.split('|')\n",
    "    allset.add(l)\n",
    "    allset.add(r)\n",
    "for key in b_test.keys():\n",
    "    l,r = key.split('|')\n",
    "    allset.add(l)\n",
    "    allset.add(r)"
   ]
  },
  {
   "cell_type": "code",
   "execution_count": null,
   "metadata": {},
   "outputs": [],
   "source": [
    "len(allset)\n",
    "s = (len(allset),len(allset))\n",
    "names = [x for x in allset]\n",
    "name2index = dict()\n",
    "index2name = dict()\n",
    "for index,item in enumerate(names):\n",
    "    name2index[item] = index\n",
    "    index2name[index] = item"
   ]
  },
  {
   "cell_type": "code",
   "execution_count": null,
   "metadata": {},
   "outputs": [],
   "source": [
    "matrix = np.zeros(s)"
   ]
  },
  {
   "cell_type": "code",
   "execution_count": null,
   "metadata": {},
   "outputs": [],
   "source": [
    "for carpcar in g_test.keys():\n",
    "    n = g_test[carpcar]\n",
    "    d = n\n",
    "    if carpcar in b_test:\n",
    "        d += b_test[carpcar]\n",
    "    l,r = carpcar.split('|')\n",
    "    matrix[name2index[l]][name2index[r]] = n / float(d)"
   ]
  },
  {
   "cell_type": "code",
   "execution_count": null,
   "metadata": {},
   "outputs": [],
   "source": [
    "counts = list()\n",
    "spoo = list()\n",
    "\n",
    "for i in index2name:\n",
    "    counts.append(i)\n",
    "    spoo.append(index2name[i])"
   ]
  },
  {
   "cell_type": "code",
   "execution_count": null,
   "metadata": {},
   "outputs": [],
   "source": [
    "import numpy as np\n",
    "import matplotlib.pyplot as plt\n",
    "plt.imshow(matrix,cmap='hot')\n",
    "plt.colorbar()\n",
    "plt.xticks(counts, spoo)\n",
    "plt.yticks(counts,spoo)"
   ]
  }
 ],
 "metadata": {
  "anaconda-cloud": {},
  "celltoolbar": "Raw Cell Format",
  "kernelspec": {
   "display_name": "Python [conda root]",
   "language": "python",
   "name": "conda-root-py"
  },
  "language_info": {
   "codemirror_mode": {
    "name": "ipython",
    "version": 3
   },
   "file_extension": ".py",
   "mimetype": "text/x-python",
   "name": "python",
   "nbconvert_exporter": "python",
   "pygments_lexer": "ipython3",
   "version": "3.5.2"
  }
 },
 "nbformat": 4,
 "nbformat_minor": 1
}
