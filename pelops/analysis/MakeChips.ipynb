{
 "cells": [
  {
   "cell_type": "code",
   "execution_count": 1,
   "metadata": {
    "collapsed": false
   },
   "outputs": [],
   "source": [
    "import os\n",
    "from pelops.datasets.chipper import FrameProducer, ExtractedChip, Methods, Chipper\n",
    "import cv2\n",
    "from hdfs3 import HDFileSystem\n",
    "import glob"
   ]
  },
  {
   "cell_type": "code",
   "execution_count": 2,
   "metadata": {
    "collapsed": true
   },
   "outputs": [],
   "source": [
    "# HDFS IP address or node name\n",
    "hdfs_location = '0.0.0.0'\n",
    "\n",
    "# Set Texas ('TX') data source, path to videos and camera name\n",
    "data_source = 'TX'\n",
    "video_location = '/datasets/texas_dot/Ending20160903/user/*.mp4'\n",
    "camera_name = 'IH10_Martin'\n",
    "#camera_name = 'IH37_Jones' \n",
    "#camera_name = 'IH37_9th'\n",
    "\n",
    "# Set Louisiana ('LA') data source, path to videos and camera name\n",
    "#data_source = 'LA'\n",
    "#video_location = '/datasets/louisiana_dot/72/*.mp4'\n",
    "#camera_name = 'Claiborne1'\n",
    "\n",
    "# Set kernel, threshold and chipping method parameters\n",
    "kernel_size=(11,11)\n",
    "threshold=6\n",
    "chipping_method=Methods.OPENCV\n",
    "\n",
    "# Toggle applying a input mask; Set mask parameters in apply_mask function in next cell \n",
    "# ex: input_mask_top=60 will set first 60 elements of array to 0\n",
    "apply_input_mask = False\n",
    "\n",
    "# Toggle expanding the boundary box dimensions; Set box parameters in expand_box function in next cell \n",
    "apply_box_expander = False\n",
    "\n",
    "# Set output directory for created chips, ex: '/datasets/chips/'\n",
    "chip_output_location = '/tmp/'"
   ]
  },
  {
   "cell_type": "code",
   "execution_count": 3,
   "metadata": {
    "collapsed": false
   },
   "outputs": [],
   "source": [
    "# Connect to HDFS and obtain filenames\n",
    "hdfs = HDFileSystem(host=hdfs_location, port=8020)\n",
    "filenames = hdfs.glob(video_location)\n",
    "\n",
    "# Format filenames to use as key in sorting\n",
    "def get_info(filename):\n",
    "    bname = os.path.basename(filename)\n",
    "    if data_source=='TX':\n",
    "        # File naming convention for Texas uses dashes between timestamps\n",
    "        return bname.split('-')[0], int(bname.split('-')[1])\n",
    "    elif data_source=='LA':\n",
    "        # File naming convention for Louisiana uses underscores inside timestamp elements\n",
    "        return bname.split('_')[0], int(bname.split('_')[1]+bname.split('_')[2]+bname.split('_')[3]+bname.split('_')[4]+bname.split('_')[5].split('.')[0])\n",
    "\n",
    "# Sort filenames and filter based on camera name\n",
    "filenames = sorted(filenames, key=get_info)\n",
    "filenames_filtered = [filename for filename in filenames if camera_name in filename]\n",
    "\n",
    "# Creates FrameProducer generator object from videos in filenames_filtered\n",
    "# Note - Chip generation on multiple videos can take a long time\n",
    "fp = FrameProducer(filenames_filtered, hdfs.open)\n",
    "\n",
    "# Sets numpy array elements on image input_arry to 0 at specific indices based on input data\n",
    "# ex: input_mask_top=60 will set first 60 elements of image array to 0\n",
    "def apply_mask(input_arry,input_mask_top=60,input_mask_bottom=250):\n",
    "    input_arry[:input_mask_top] = 0\n",
    "    input_arry[input_mask_bottom:] = 0\n",
    "    return input_arry\n",
    "\n",
    "# Increase boundary box size; Used with box_expander parameter of Chipper class\n",
    "def expand_box(x,y,w,h, amount=5):\n",
    "    return x-amount, y-amount, w+amount*2, h+amount*2"
   ]
  },
  {
   "cell_type": "code",
   "execution_count": 4,
   "metadata": {
    "collapsed": true
   },
   "outputs": [],
   "source": [
    "# Function \n",
    "# get_frame_lookup - Takes frame and outputs frame_lookup and chips\n",
    "# Input\n",
    "# fp - FrameProducer object \n",
    "# kernel_size - Size of convolutional kernel, default=(25,25) and must be odd numbers\n",
    "# threshold - Threshold value used in OpenCV's threshold function, default=30\n",
    "# chipping_method - Type of chipping, default = Methods.BACKGROUND_SUB\n",
    "# Output\n",
    "# frame_lookup - Dictionary of chip reference values keyed on frame_numbers \n",
    "# chips - List of Chipper objects\n",
    "\n",
    "def get_frame_lookup(fp, \n",
    "                     kernel_size=(25,25), \n",
    "                     threshold=30, \n",
    "                     chipping_method=Methods.BACKGROUND_SUB,\n",
    "                     mask_modifier=None,\n",
    "                     box_expander=None\n",
    "                    ):\n",
    "    chipper = Chipper(fp, \n",
    "                  mask_modifier=mask_modifier,\n",
    "                  kernel_size = kernel_size,\n",
    "                  threshold = threshold,\n",
    "                  box_expander=box_expander,\n",
    "                  chipping_method=chipping_method)\n",
    "\n",
    "    # Get chips by frame number\n",
    "    chips = []\n",
    "    for frame_chips in chipper:\n",
    "        chips.extend(frame_chips)\n",
    "\n",
    "    from collections import defaultdict\n",
    "    frame_lookup = defaultdict(list)\n",
    "    for ec in chips:\n",
    "        frame_lookup[ec.frame_number].append(ec)\n",
    "    return frame_lookup, chips"
   ]
  },
  {
   "cell_type": "code",
   "execution_count": 5,
   "metadata": {
    "collapsed": false
   },
   "outputs": [],
   "source": [
    "# Create chips and frame_lookup\n",
    "if apply_input_mask:\n",
    "    mask_modifier = apply_mask\n",
    "else:\n",
    "    mask_modifier = None\n",
    "if apply_box_expander:\n",
    "    box_expander = expand_box\n",
    "else:\n",
    "    box_expander = None\n",
    "\n",
    "frame_lookup, chips = get_frame_lookup(fp, \n",
    "                            kernel_size=kernel_size,\n",
    "                            threshold=threshold, \n",
    "                            chipping_method=chipping_method,\n",
    "                            mask_modifier=mask_modifier,\n",
    "                            box_expander=box_expander)"
   ]
  },
  {
   "cell_type": "code",
   "execution_count": 6,
   "metadata": {
    "collapsed": false
   },
   "outputs": [
    {
     "name": "stdout",
     "output_type": "stream",
     "text": [
      "Chip images written to HDFS: 12954\n"
     ]
    }
   ],
   "source": [
    "# Write created chips to HDFS\n",
    "# Output format is '[original file basename]-chip-[frame number]-[iterator].jpg'\n",
    "# TODO - Find a way to have cv2 write directly to hdfs instead of using a local temp file\n",
    "tmp_filename='temp.jpg'\n",
    "for frame in frame_lookup:\n",
    "    i=0\n",
    "    for chip in frame_lookup[frame]:\n",
    "        filename=os.path.basename(chip.filename).split('.')[0]+\"-chip-\"+str(chip.frame_number)+'-'+str(i)+'.jpg'\n",
    "        cv2.imwrite(tmp_filename,chip.img_data)\n",
    "        hdfs.put(tmp_filename,os.path.join(chip_output_location,filename))\n",
    "        i+=1\n",
    "\n",
    "# Delete temp file\n",
    "if os.path.isfile(tmp_filename): os.remove(tmp_filename)\n",
    "print(\"Video Location:\",video_location)\n",
    "print(\"Camera Name:\",camera_name)\n",
    "print(\"Chip images written to HDFS:\",len(chips))"
   ]
  },
  {
   "cell_type": "code",
   "execution_count": null,
   "metadata": {
    "collapsed": true
   },
   "outputs": [],
   "source": []
  }
 ],
 "metadata": {
  "kernelspec": {
   "display_name": "Python 3",
   "language": "python",
   "name": "python3"
  },
  "language_info": {
   "codemirror_mode": {
    "name": "ipython",
    "version": 3
   },
   "file_extension": ".py",
   "mimetype": "text/x-python",
   "name": "python",
   "nbconvert_exporter": "python",
   "pygments_lexer": "ipython3",
   "version": "3.5.2"
  }
 },
 "nbformat": 4,
 "nbformat_minor": 2
}
