{
 "cells": [
  {
   "cell_type": "code",
   "execution_count": null,
   "metadata": {},
   "outputs": [],
   "source": [
    "cd '~/work/pelops'"
   ]
  },
  {
   "cell_type": "code",
   "execution_count": null,
   "metadata": {},
   "outputs": [],
   "source": [
    "%matplotlib inline\n",
    "import matplotlib.pyplot as plt\n",
    "#import time\n",
    "#import numpy as np\n",
    "from pelops.datasets.featuredataset import FeatureDataset\n",
    "from pelops.experiment_api.experiment import ExperimentGenerator\n",
    "from pelops.datasets import chip\n",
    "from  pelops.models.makesvm import train_svm, test_svm\n",
    "from  pelops.analysis.comparecameras import mad_matrix"
   ]
  },
  {
   "cell_type": "code",
   "execution_count": null,
   "metadata": {},
   "outputs": [],
   "source": [
    "ITEMSPERCAMERA = 2\n",
    "NUMCAMERAS = 2\n",
    "TRAIN_RANDOM=1024\n",
    "DROPPED=0\n",
    "TRAIN_FEATURES = '/Users/dgrossman/image_NEW_TINY_TRAIN'\n",
    "\n",
    "fd_train = FeatureDataset(TRAIN_FEATURES)\n",
    "eg_train = ExperimentGenerator(fd_train, NUMCAMERAS, ITEMSPERCAMERA, DROPPED, TRAIN_RANDOM)\n"
   ]
  },
  {
   "cell_type": "code",
   "execution_count": null,
   "metadata": {},
   "outputs": [],
   "source": [
    "ITEMSPERCAMERA = 2\n",
    "NUMCAMERAS = 2\n",
    "TEST_RANDOM=1024\n",
    "DROPPED=0\n",
    "TEST_FEATURES = '/Users/dgrossman/image_NEW_TINY_TEST'\n",
    "\n",
    "fd_test = FeatureDataset(TEST_FEATURES)\n",
    "eg_test = ExperimentGenerator(fd_test,  NUMCAMERAS, ITEMSPERCAMERA, DROPPED, TEST_RANDOM)"
   ]
  },
  {
   "cell_type": "code",
   "execution_count": null,
   "metadata": {},
   "outputs": [],
   "source": [
    "testpoints = [50,100,200,400,800,1600]"
   ]
  },
  {
   "cell_type": "code",
   "execution_count": null,
   "metadata": {},
   "outputs": [],
   "source": [
    "results = list()\n",
    "for testpoint in testpoints:\n",
    "    clf_train = train_svm(testpoint,fd_train,eg_train)\n",
    "    result = test_svm(testpoint,clf_train,fd_test,eg_test)\n",
    "    print ('items: {}, score {}'.format(testpoint,result))\n",
    "    results.append((testpoint,result))"
   ]
  },
  {
   "cell_type": "code",
   "execution_count": null,
   "metadata": {},
   "outputs": [],
   "source": [
    "for i,s in results:\n",
    "    print('items:{}, score:{}'.format(i,s))"
   ]
  },
  {
   "cell_type": "code",
   "execution_count": null,
   "metadata": {},
   "outputs": [],
   "source": []
  }
 ],
 "metadata": {
  "anaconda-cloud": {},
  "kernelspec": {
   "display_name": "Python [conda root]",
   "language": "python",
   "name": "conda-root-py"
  },
  "language_info": {
   "codemirror_mode": {
    "name": "ipython",
    "version": 3
   },
   "file_extension": ".py",
   "mimetype": "text/x-python",
   "name": "python",
   "nbconvert_exporter": "python",
   "pygments_lexer": "ipython3",
   "version": "3.5.2"
  }
 },
 "nbformat": 4,
 "nbformat_minor": 1
}
