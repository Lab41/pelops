{
 "cells": [
  {
   "cell_type": "code",
   "execution_count": 1,
   "metadata": {
    "collapsed": false
   },
   "outputs": [
    {
     "name": "stdout",
     "output_type": "stream",
     "text": [
      "/Users/dgrossman/work/pelops\n"
     ]
    }
   ],
   "source": [
    "cd '~/work/pelops'"
   ]
  },
  {
   "cell_type": "code",
   "execution_count": 2,
   "metadata": {
    "collapsed": false
   },
   "outputs": [],
   "source": [
    "%matplotlib inline\n",
    "import matplotlib.pyplot as plt\n",
    "#import time\n",
    "#import numpy as np\n",
    "from pelops.datasets.featuredataset import FeatureDataset\n",
    "from pelops.experiment_api.experiment import ExperimentGenerator\n",
    "from pelops.datasets import chip\n",
    "from  pelops.models.makesvm import train_svm, test_svm\n",
    "from  pelops.analysis.comparecameras import mad_matrix"
   ]
  },
  {
   "cell_type": "code",
   "execution_count": 3,
   "metadata": {
    "collapsed": false
   },
   "outputs": [],
   "source": [
    "ITEMSPERCAMERA = 2\n",
    "NUMCAMERAS = 2\n",
    "TRAIN_RANDOM=1024\n",
    "DROPPED=0\n",
    "TRAIN_FEATURES = '/Users/dgrossman/image_NEW_TINY_TRAIN'\n",
    "\n",
    "fd_train = FeatureDataset(TRAIN_FEATURES)\n",
    "eg_train = ExperimentGenerator(fd_train, NUMCAMERAS, ITEMSPERCAMERA, DROPPED, TRAIN_RANDOM)\n"
   ]
  },
  {
   "cell_type": "code",
   "execution_count": 4,
   "metadata": {
    "collapsed": true
   },
   "outputs": [],
   "source": [
    "ITEMSPERCAMERA = 2\n",
    "NUMCAMERAS = 2\n",
    "TEST_RANDOM=1024\n",
    "DROPPED=0\n",
    "TEST_FEATURES = '/Users/dgrossman/image_NEW_TINY_TEST'\n",
    "\n",
    "fd_test = FeatureDataset(TEST_FEATURES)\n",
    "eg_test = ExperimentGenerator(fd_test,  NUMCAMERAS, ITEMSPERCAMERA, DROPPED, TEST_RANDOM)"
   ]
  },
  {
   "cell_type": "code",
   "execution_count": 5,
   "metadata": {
    "collapsed": false
   },
   "outputs": [],
   "source": [
    "testpoints = [50,100,200,400,800,1600]"
   ]
  },
  {
   "cell_type": "code",
   "execution_count": 6,
   "metadata": {
    "collapsed": false
   },
   "outputs": [
    {
     "name": "stdout",
     "output_type": "stream",
     "text": [
      "\n",
      "fitting\n",
      "fitting took 0.8696780204772949 seconds\n",
      "\n",
      "scoring\n",
      "scoring took 0.8443429470062256 seconds\n",
      "items: 50, score 0.46\n",
      "\n",
      "fitting\n",
      "fitting took 2.971219062805176 seconds\n",
      "\n",
      "scoring\n",
      "scoring took 2.8994929790496826 seconds\n",
      "items: 100, score 0.475\n",
      "\n",
      "fitting\n",
      "fitting took 11.398109912872314 seconds\n",
      "\n",
      "scoring\n",
      "scoring took 11.132608890533447 seconds\n",
      "items: 200, score 0.515\n"
     ]
    }
   ],
   "source": [
    "results = list()\n",
    "for testpoint in testpoints:\n",
    "    clf_train = train_svm(testpoint,fd_train,eg_train)\n",
    "    result = test_svm(testpoint,clf_train,fd_test,eg_test)\n",
    "    print ('items: {}, score {}'.format(testpoint,result))\n",
    "    results.append((testpoint,result))"
   ]
  },
  {
   "cell_type": "code",
   "execution_count": 7,
   "metadata": {
    "collapsed": false
   },
   "outputs": [
    {
     "name": "stdout",
     "output_type": "stream",
     "text": [
      "items:50, score:0.46\n",
      "items:100, score:0.475\n",
      "items:200, score:0.515\n"
     ]
    }
   ],
   "source": [
    "for i,s in results:\n",
    "    print('items:{}, score:{}'.format(i,s))"
   ]
  },
  {
   "cell_type": "code",
   "execution_count": null,
   "metadata": {
    "collapsed": true
   },
   "outputs": [],
   "source": []
  }
 ],
 "metadata": {
  "anaconda-cloud": {},
  "kernelspec": {
   "display_name": "Python [conda root]",
   "language": "python",
   "name": "conda-root-py"
  },
  "language_info": {
   "codemirror_mode": {
    "name": "ipython",
    "version": 3
   },
   "file_extension": ".py",
   "mimetype": "text/x-python",
   "name": "python",
   "nbconvert_exporter": "python",
   "pygments_lexer": "ipython3",
   "version": "3.5.2"
  },
  "widgets": {
   "state": {
    "124067a4f7a8429081b242d842ccf0ab": {
     "views": [
      {
       "cell_index": 5
      }
     ]
    },
    "22a7dccfba2d4a289a6de92a37cd3153": {
     "views": [
      {
       "cell_index": 5
      }
     ]
    },
    "7ff708471a8b4ff3bdf50003d8aaa2c0": {
     "views": [
      {
       "cell_index": 5
      }
     ]
    },
    "8b37460b729842a48ebb6c4a5422eb45": {
     "views": [
      {
       "cell_index": 5
      }
     ]
    },
    "ae9b4089755441be8094ed35b0e2a817": {
     "views": [
      {
       "cell_index": 5
      }
     ]
    },
    "f5d4801b33d340dca60e74ca30684e77": {
     "views": [
      {
       "cell_index": 5
      }
     ]
    }
   },
   "version": "1.2.0"
  }
 },
 "nbformat": 4,
 "nbformat_minor": 1
}
