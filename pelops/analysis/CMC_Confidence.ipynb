{
 "cells": [
  {
   "cell_type": "code",
   "execution_count": 1,
   "metadata": {
    "collapsed": false
   },
   "outputs": [],
   "source": [
    "%matplotlib inline\n",
    "import matplotlib.pyplot as plt\n",
    "import time\n",
    "import numpy as np\n",
    "from pelops.datasets.featuredataset import FeatureDataset\n",
    "from pelops.experiment_api.experiment import ExperimentGenerator\n",
    "from pelops.datasets import chip\n",
    "from collections import defaultdict\n",
    "from scipy.spatial.distance import cosine, euclidean\n",
    "from matplotlib.font_manager import FontProperties\n",
    "from tqdm import tnrange, tqdm_notebook"
   ]
  },
  {
   "cell_type": "code",
   "execution_count": 2,
   "metadata": {
    "collapsed": false
   },
   "outputs": [],
   "source": [
    "# do the comparisons between chips\n",
    "def is_correct_match(cam1, cam2, topN=2, verbose=False, comparison='cosine'):\n",
    "    similarities = []\n",
    "    for cam1_chip in cam1:\n",
    "        cam1_feat = fd.get_feats_for_chip(cam1_chip)\n",
    "        for cam2_chip in cam2:\n",
    "            cam2_feat = fd.get_feats_for_chip(cam2_chip)\n",
    "            if comparison == 'cosine':\n",
    "                similarity = 1 - cosine(cam1_feat, cam2_feat)\n",
    "            elif comparison == 'euclidian':\n",
    "                similarity = -1*abs(euclidean(cam1_feat, cam2_feat))\n",
    "            else:\n",
    "                raise ValueError('invalid comparison name')\n",
    "            similarities.append((similarity, cam1_chip, cam2_chip))\n",
    "            \n",
    "    similarities.sort(reverse=True)\n",
    "    for i, (similarity, chip1, chip2) in enumerate(similarities):\n",
    "        # return best_match\n",
    "        if chip1.car_id == chip2.car_id:\n",
    "            if verbose:\n",
    "                return i, similarities\n",
    "            else:\n",
    "                return i\n",
    "    raise ValueError(\"Huh?\")\n"
   ]
  },
  {
   "cell_type": "code",
   "execution_count": 3,
   "metadata": {
    "collapsed": false
   },
   "outputs": [],
   "source": [
    "# do EXPERIMENTS, determine \n",
    "def preCMC(a,EXPERIMENTS=100):\n",
    "   \n",
    "    num_downs = defaultdict(int)\n",
    "    for i in range(EXPERIMENTS):\n",
    "        a = eg.generate()\n",
    "        num_down = is_correct_match(a[0], a[1])\n",
    "        num_downs[num_down] += 1\n",
    "        \n",
    "    keys = sorted(num_downs)\n",
    "    vals = [num_downs[key] for key in keys]\n",
    "    return((keys,np.array(vals)/EXPERIMENTS))"
   ]
  },
  {
   "cell_type": "code",
   "execution_count": 4,
   "metadata": {
    "collapsed": false
   },
   "outputs": [],
   "source": [
    "# Generate unprocessed CMC curves \n",
    "# the data needs to be summed to make the correct\n",
    "# CMC curve\n",
    "def makeManyPreCMC(a,N=100,EXPERIMENTS=100):\n",
    "    experimentHolder = []\n",
    "    for experiment in tnrange(N):\n",
    "        experimentHolder.append(preCMC(a,EXPERIMENTS=EXPERIMENTS))\n",
    "    return experimentHolder"
   ]
  },
  {
   "cell_type": "code",
   "execution_count": 5,
   "metadata": {
    "collapsed": false
   },
   "outputs": [],
   "source": [
    "# finalize creation of the CMC curves\n",
    "# generate statistics on the CMC curves\n",
    "# return all\n",
    "def makeCMCStats(experimentHolder,itemsPerCamera):\n",
    "    comparisons = itemsPerCamera*itemsPerCamera\n",
    "    stats = np.zeros((len(experimentHolder),comparisons))\n",
    "\n",
    "    for index,(keys,vals) in enumerate(experimentHolder):\n",
    "        for keyIndex in range(len(keys)):\n",
    "            stats[index,keys[keyIndex]] = vals[keyIndex]\n",
    "\n",
    "\n",
    "    for index in range(len(stats[:,])):\n",
    "        total_sum = 0.0\n",
    "        offsetlen = len(stats[0])\n",
    "        for sample in range(offsetlen):\n",
    "            total_sum += stats[index,sample] \n",
    "            stats[index,sample] = total_sum         \n",
    "\n",
    "    gdata = np.zeros((3,comparisons))\n",
    "\n",
    "    for i in range(comparisons):\n",
    "        gdata[1,i] = np.average(stats[:,i])\n",
    "    for i in range(comparisons):\n",
    "        stddev  = np.std(stats[:,i])\n",
    "        gdata[0,i] = gdata[1,i] - stddev\n",
    "        gdata[2,i] = gdata[1,i] + stddev\n",
    "    \n",
    "    return (stats,gdata)"
   ]
  },
  {
   "cell_type": "code",
   "execution_count": null,
   "metadata": {
    "collapsed": true
   },
   "outputs": [],
   "source": [
    "DATASETFILE = '/some/path/aFile'\n",
    "ITEMSPERCAMERA = 10\n",
    "YRANDOM=1024\n",
    "CAMERAS=2\n",
    "DROPPED=0\n",
    "CMC=100\n",
    "EXPERIMENTS=1000"
   ]
  },
  {
   "cell_type": "code",
   "execution_count": 9,
   "metadata": {
    "collapsed": false
   },
   "outputs": [
    {
     "name": "stdout",
     "output_type": "stream",
     "text": [
      "\n"
     ]
    }
   ],
   "source": [
    "#do the math\n",
    "fd = FeatureDataset(DATASETFILE)\n",
    "eg = ExperimentGenerator(fd, CAMERAS, ITEMSPERCAMERA, DROPPED, YRANDOM)\n",
    "a = eg.generate()\n",
    "experimentHolder = makeManyPreCMC(a,N=CMC,EXPERIMENTS=EXPERIMENTS)\n",
    "stats,gdata = makeCMCStats(experimentHolder,ITEMSPERCAMERA)"
   ]
  },
  {
   "cell_type": "code",
   "execution_count": 10,
   "metadata": {
    "collapsed": false
   },
   "outputs": [
    {
     "data": {
      "text/plain": [
       "<matplotlib.legend.Legend at 0x7f095e9571d0>"
      ]
     },
     "execution_count": 10,
     "metadata": {},
     "output_type": "execute_result"
    },
    {
     "data": {
      "image/png": "[encoded data removed]",
      "text/plain": [
       "<matplotlib.figure.Figure at 0x7f095e946d68>"
      ]
     },
     "metadata": {},
     "output_type": "display_data"
    }
   ],
   "source": [
    "#make the plots\n",
    "fig = plt.figure()\n",
    "ax = plt.subplot(111)\n",
    "\n",
    "ax.plot(gdata.transpose())\n",
    "plt.title('{} CMC curves with {} experiments per curve'.format(CMC,EXPERIMENTS))\n",
    "ax.legend(('-stddev','avg','+stddev'),bbox_to_anchor=(1, -0.05),\n",
    "          fancybox=True, shadow=True, ncol=5)"
   ]
  }
 ],
 "metadata": {
  "anaconda-cloud": {},
  "kernelspec": {
   "display_name": "Python 3",
   "language": "python",
   "name": "python3"
  },
  "language_info": {
   "codemirror_mode": {
    "name": "ipython",
    "version": 3
   },
   "file_extension": ".py",
   "mimetype": "text/x-python",
   "name": "python",
   "nbconvert_exporter": "python",
   "pygments_lexer": "ipython3",
   "version": "3.5.2"
  },
  "widgets": {
   "state": {
    "1d4e7cdd37754b078e521c5c881a883f": {
     "views": [
      {
       "cell_index": 5
      }
     ]
    }
   },
   "version": "1.2.0"
  }
 },
 "nbformat": 4,
 "nbformat_minor": 2
}
