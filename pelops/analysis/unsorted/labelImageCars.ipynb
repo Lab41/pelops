{
 "cells": [
  {
   "cell_type": "code",
   "execution_count": 1,
   "metadata": {
    "collapsed": false
   },
   "outputs": [
    {
     "name": "stderr",
     "output_type": "stream",
     "text": [
      "Using TensorFlow backend.\n"
     ]
    }
   ],
   "source": [
    "import sys,os,os.path\n",
    "import tensorflow as tf\n",
    "os.environ['THEANO_FLAGS']='mode=FAST_RUN,device=gpu,floatX=float32'\n",
    "from keras import backend as K\n",
    "sess  = tf.Session()\n",
    "K.set_session(sess)"
   ]
  },
  {
   "cell_type": "code",
   "execution_count": 2,
   "metadata": {
    "collapsed": false
   },
   "outputs": [
    {
     "name": "stdout",
     "output_type": "stream",
     "text": [
      "/data/fs4/home/dgrossman/deep-learning-models\n"
     ]
    }
   ],
   "source": [
    "cd 'deep-learning-models/'"
   ]
  },
  {
   "cell_type": "code",
   "execution_count": 3,
   "metadata": {
    "collapsed": false
   },
   "outputs": [],
   "source": [
    "import json\n",
    "import time\n",
    "allFiles = 'allImages'\n",
    "root = '/local_data/dgrossman/dgCars/'\n",
    "af = open(allFiles,'r')\n",
    "data = list()\n",
    "for d in af:\n",
    "    d = d.strip()\n",
    "    data.append(json.loads(d))"
   ]
  },
  {
   "cell_type": "code",
   "execution_count": 4,
   "metadata": {
    "collapsed": false
   },
   "outputs": [],
   "source": [
    "from resnet50 import ResNet50\n",
    "from keras.preprocessing import image\n",
    "from imagenet_utils import preprocess_input, decode_predictions\n",
    "import numpy as np"
   ]
  },
  {
   "cell_type": "code",
   "execution_count": 5,
   "metadata": {
    "collapsed": false
   },
   "outputs": [
    {
     "name": "stdout",
     "output_type": "stream",
     "text": [
      "K.image_dim_ordering: tf\n",
      "Downloading data from https://github.com/fchollet/deep-learning-models/releases/download/v0.2/resnet50_weights_tf_dim_ordering_tf_kernels.h5\n",
      "102744064/102853048 [============================>.] - ETA: 0sloadResNet50 103.93724489212036\n"
     ]
    }
   ],
   "source": [
    "s = time.time()\n",
    "model = ResNet50(weights='imagenet')\n",
    "print ('loadResNet50',time.time() - s)\n",
    "\n"
   ]
  },
  {
   "cell_type": "code",
   "execution_count": null,
   "metadata": {
    "collapsed": true
   },
   "outputs": [],
   "source": [
    "good = list()\n",
    "bad = list()\n",
    "file = list()"
   ]
  },
  {
   "cell_type": "code",
   "execution_count": null,
   "metadata": {
    "collapsed": false
   },
   "outputs": [
    {
     "name": "stdout",
     "output_type": "stream",
     "text": [
      "time: 2.956390380859375e-05\n",
      "Downloading data from https://s3.amazonaws.com/deep-learning-models/image-models/imagenet_class_index.json\n",
      "24576/35363 [===================>..........] - ETA: 0sprocessed: 10000 Images good 6681 bad 2 file 3318 199.4498679637909\n",
      "processed: 20000 Images good 14144 bad 7 file 5850 221.3894076347351\n",
      "processed: 30000 Images good 22128 bad 10 file 7863 233.6485574245453\n"
     ]
    }
   ],
   "source": [
    "interesting = set()\n",
    "\n",
    "for x in ['police_van','moving_van','car','pickup','suv','truck','crossover','van','minivan','sports_car','cab','racer','convertible','car_wheel','jeep','ambulance']:\n",
    "    interesting.add(x)\n",
    "\n",
    "count = 0\n",
    "im = 0\n",
    "#with tf.device('/gpu:0'):\n",
    "#    print ('time:',time.time())\n",
    "s = time.time()\n",
    "print ('time:',time.time() - s)\n",
    "if True:\n",
    "    for d in data:   \n",
    "        img_path = '{0}/{1}'.format(root,d['filename'])\n",
    "        flag = True\n",
    "        try:\n",
    "            img = image.load_img(img_path, target_size=(224, 224))\n",
    "\n",
    "        except:\n",
    "            #print('FILE :',d['filename'])\n",
    "            file.append(d)\n",
    "            flag = False\n",
    "\n",
    "        if flag:\n",
    "            x = image.img_to_array(img)\n",
    "            x = np.expand_dims(x, axis=0)\n",
    "            x = preprocess_input(x)\n",
    "            preds = model.predict(x)\n",
    "            predictions = decode_predictions(preds)[0][:4]\n",
    "            #out = ''\n",
    "            found = False\n",
    "            for prediction in predictions:\n",
    "                i,t,score = prediction\n",
    "                #out = d['filename'], prediction\n",
    "                if t in interesting:\n",
    "                    #out = 'GOOD'+' ' + d['filename']+' '+t\n",
    "                    good.append((d,t))\n",
    "                    found = True\n",
    "                    break\n",
    "            if not found:\n",
    "                bad.append((d,predictions[0][1]))\n",
    "                #out = 'BAD'+ ' ' + d['filename']+ ' ' + predictions[0][1]\n",
    "            #print (out)\n",
    "            #print ('Predicted',decode_predictions(preds)[0][:4],' sec:',time.time() - s )\n",
    "\n",
    "        atOnce = 10000\n",
    "        if count == atOnce:\n",
    "            count = 0\n",
    "            im = im + 1\n",
    "            z = time.time() - s\n",
    "            print('processed:',im * atOnce,'Images','good',len(good),'bad',len(bad),'file',len(file),z)\n",
    "            s = time.time()\n",
    "        count = count + 1"
   ]
  },
  {
   "cell_type": "code",
   "execution_count": null,
   "metadata": {
    "collapsed": false
   },
   "outputs": [],
   "source": [
    "print('processed:',len(good) + len(bad) + len(file),'Images','good',len(good),'bad',len(bad),'file',len(file))"
   ]
  },
  {
   "cell_type": "code",
   "execution_count": 19,
   "metadata": {
    "collapsed": false
   },
   "outputs": [],
   "source": [
    "from collections import defaultdict\n",
    "q = defaultdict(int)"
   ]
  },
  {
   "cell_type": "code",
   "execution_count": 20,
   "metadata": {
    "collapsed": true
   },
   "outputs": [],
   "source": [
    "for b in good:\n",
    "    q[b[1]] = q[b[1]]+1"
   ]
  },
  {
   "cell_type": "code",
   "execution_count": 21,
   "metadata": {
    "collapsed": false
   },
   "outputs": [
    {
     "name": "stdout",
     "output_type": "stream",
     "text": [
      "pickup 197430\n",
      "minivan 197889\n",
      "jeep 58346\n",
      "car_wheel 43754\n",
      "sports_car 113967\n",
      "ambulance 12167\n",
      "convertible 112168\n",
      "racer 30318\n",
      "cab 75600\n"
     ]
    }
   ],
   "source": [
    "for qq in q:\n",
    "    print (qq,q[qq])\n"
   ]
  },
  {
   "cell_type": "code",
   "execution_count": 8,
   "metadata": {
    "collapsed": false
   },
   "outputs": [
    {
     "ename": "IndentationError",
     "evalue": "unexpected indent (<ipython-input-8-d51da612250b>, line 2)",
     "output_type": "error",
     "traceback": [
      "\u001b[0;36m  File \u001b[0;32m\"<ipython-input-8-d51da612250b>\"\u001b[0;36m, line \u001b[0;32m2\u001b[0m\n\u001b[0;31m    for g in good:\u001b[0m\n\u001b[0m    ^\u001b[0m\n\u001b[0;31mIndentationError\u001b[0m\u001b[0;31m:\u001b[0m unexpected indent\n"
     ]
    }
   ],
   "source": [
    "gfile = open('foundCars','w')\n",
    "    for g in good:\n",
    "        gfile.write(g+'\\n')\n",
    "gfile.close()"
   ]
  },
  {
   "cell_type": "code",
   "execution_count": 22,
   "metadata": {
    "collapsed": false
   },
   "outputs": [],
   "source": [
    "gfile = open('foundCars','w')\n",
    "for g in good:\n",
    "    dat, classification = g\n",
    "    dat['resnet50'] = classification\n",
    "    gfile.write(json.dumps(dat)+'\\n')\n",
    "gfile.close()\n"
   ]
  },
  {
   "cell_type": "code",
   "execution_count": 14,
   "metadata": {
    "collapsed": false
   },
   "outputs": [
    {
     "data": {
      "text/plain": [
       "({'color': 'yellow',\n",
       "  'filename': 'yellow/McLaren/2d2b71d630a0267eb664b04af33debc8.jpg',\n",
       "  'hash': '2d2b71d630a0267eb664b04af33debc8',\n",
       "  'make': 'McLaren',\n",
       "  'model': 'MP4-12C',\n",
       "  'url': 'http://i.telegraph.co.uk/multimedia/archive/02370/Spider-3_2370200b.jpg'},\n",
       " 'sports_car')"
      ]
     },
     "execution_count": 14,
     "metadata": {},
     "output_type": "execute_result"
    }
   ],
   "source": [
    "good[0]"
   ]
  },
  {
   "cell_type": "code",
   "execution_count": 1,
   "metadata": {
    "collapsed": false
   },
   "outputs": [
    {
     "data": {
      "text/plain": [
       "9"
      ]
     },
     "execution_count": 1,
     "metadata": {},
     "output_type": "execute_result"
    }
   ],
   "source": [
    "7+2"
   ]
  },
  {
   "cell_type": "code",
   "execution_count": null,
   "metadata": {
    "collapsed": true
   },
   "outputs": [],
   "source": []
  }
 ],
 "metadata": {
  "anaconda-cloud": {},
  "kernelspec": {
   "display_name": "Python 3",
   "language": "python",
   "name": "python3"
  },
  "language_info": {
   "codemirror_mode": {
    "name": "ipython",
    "version": 3
   },
   "file_extension": ".py",
   "mimetype": "text/x-python",
   "name": "python",
   "nbconvert_exporter": "python",
   "pygments_lexer": "ipython3",
   "version": "3.5.2"
  }
 },
 "nbformat": 4,
 "nbformat_minor": 1
}
