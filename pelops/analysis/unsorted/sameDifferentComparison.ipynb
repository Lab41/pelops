{
 "cells": [
  {
   "cell_type": "code",
   "execution_count": 5,
   "metadata": {
    "collapsed": false
   },
   "outputs": [
    {
     "name": "stdout",
     "output_type": "stream",
     "text": [
      "4\n",
      "0 1\n",
      "0 2\n",
      "0 3\n",
      "1 2\n",
      "1 3\n",
      "2 3\n"
     ]
    }
   ],
   "source": [
    "import itertools\n",
    "import random\n",
    "import numpy\n",
    "from matplotlib import pyplot\n",
    "\n",
    "def foo(x,y):\n",
    "    print(x,y)\n",
    "\n",
    "my_list = range(0,4)\n",
    "print(len(my_list))\n",
    "count = 0\n",
    "for pair in itertools.combinations(my_list, 2):\n",
    "    foo(*pair)\n",
    "    count = count +1\n"
   ]
  },
  {
   "cell_type": "code",
   "execution_count": 6,
   "metadata": {
    "collapsed": false
   },
   "outputs": [],
   "source": [
    "\n",
    "sameList = list()\n",
    "diffList = list()\n",
    "\n",
    "same = open('/local_data/dgrossman/VeRi/compareSame','r')\n",
    "diff = open('/local_data/dgrossman/VeRi/compareDiff','r')\n",
    "\n",
    "#for j in range(0,7500):\n",
    "#    sameList.append(float(same.readline().strip()))\n",
    "#    diffList.append(float(diff.readline().strip()))\n",
    "\n",
    "for line in same:\n",
    "     sameList.append(float(line.strip()))\n",
    "\n",
    "sameLen = len(sameList)\n",
    "for line in diff:\n",
    "    diffList.append(float(line.strip()))\n",
    "\n",
    "    \n",
    "same.close()\n",
    "diff.close()\n",
    "\n"
   ]
  },
  {
   "cell_type": "code",
   "execution_count": 7,
   "metadata": {
    "collapsed": false,
    "scrolled": true
   },
   "outputs": [
    {
     "data": {
      "image/png": "[encoded data removed]",
      "text/plain": [
       "<matplotlib.figure.Figure at 0x7f18ea148f60>"
      ]
     },
     "metadata": {},
     "output_type": "display_data"
    }
   ],
   "source": [
    "\n",
    "\n",
    "bins = numpy.linspace(0, .8, 150)\n",
    "random.shuffle(diffList)\n",
    "#diffList.sort(reverse=True)\n",
    "pyplot.hist(sameList, bins, alpha=0.5, label='same')\n",
    "pyplot.hist(diffList[:len(sameList)], bins, alpha=0.5, label='different')\n",
    "pyplot.legend(loc='upper right')\n",
    "pyplot.show()"
   ]
  },
  {
   "cell_type": "code",
   "execution_count": 8,
   "metadata": {
    "collapsed": false
   },
   "outputs": [
    {
     "data": {
      "text/plain": [
       "450925"
      ]
     },
     "execution_count": 8,
     "metadata": {},
     "output_type": "execute_result"
    }
   ],
   "source": [
    "len(sameList)"
   ]
  },
  {
   "cell_type": "code",
   "execution_count": 12,
   "metadata": {
    "collapsed": false
   },
   "outputs": [
    {
     "data": {
      "text/plain": [
       "67036620.5"
      ]
     },
     "execution_count": 12,
     "metadata": {},
     "output_type": "execute_result"
    }
   ],
   "source": [
    "11579**2 /2 "
   ]
  },
  {
   "cell_type": "code",
   "execution_count": null,
   "metadata": {
    "collapsed": true
   },
   "outputs": [],
   "source": []
  }
 ],
 "metadata": {
  "anaconda-cloud": {},
  "kernelspec": {
   "display_name": "Python 3",
   "language": "python",
   "name": "python3"
  },
  "language_info": {
   "codemirror_mode": {
    "name": "ipython",
    "version": 3
   },
   "file_extension": ".py",
   "mimetype": "text/x-python",
   "name": "python",
   "nbconvert_exporter": "python",
   "pygments_lexer": "ipython3",
   "version": "3.5.2"
  }
 },
 "nbformat": 4,
 "nbformat_minor": 1
}
