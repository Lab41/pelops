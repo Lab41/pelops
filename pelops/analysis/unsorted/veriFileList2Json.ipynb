{
 "cells": [
  {
   "cell_type": "code",
   "execution_count": 5,
   "metadata": {
    "collapsed": false
   },
   "outputs": [
    {
     "name": "stdout",
     "output_type": "stream",
     "text": [
      "/local_data/dgrossman/VeRi\n"
     ]
    }
   ],
   "source": [
    "cd '/local_data/dgrossman/VeRi/'"
   ]
  },
  {
   "cell_type": "code",
   "execution_count": 6,
   "metadata": {
    "collapsed": true
   },
   "outputs": [],
   "source": [
    "a = open('./name_test.txt','r')\n",
    "testnames = list()\n",
    "\n",
    "for line in a:\n",
    "    d = dict()\n",
    "    line = line.strip()\n",
    "    attrs = line.split('_')\n",
    "    d['imageName'] = line\n",
    "    d['vehicleID'] = attrs[0]\n",
    "    d['cameraID'] = attrs[1]\n",
    "    d['colorID'] = str(-1)\n",
    "    d['typeID'] = str(-1)\n",
    "    testnames.append(d)\n",
    "a.close()"
   ]
  },
  {
   "cell_type": "code",
   "execution_count": 7,
   "metadata": {
    "collapsed": false
   },
   "outputs": [
    {
     "data": {
      "text/plain": [
       "{'cameraID': 'c002',\n",
       " 'colorID': '-1',\n",
       " 'imageName': '0002_c002_00030600_0.jpg',\n",
       " 'typeID': '-1',\n",
       " 'vehicleID': '0002'}"
      ]
     },
     "execution_count": 7,
     "metadata": {},
     "output_type": "execute_result"
    }
   ],
   "source": [
    "testnames[0]"
   ]
  },
  {
   "cell_type": "code",
   "execution_count": 8,
   "metadata": {
    "collapsed": true
   },
   "outputs": [],
   "source": [
    "import json\n",
    "a = open('./test_features.json','w')\n",
    "for line in testnames:\n",
    "    a.write(json.dumps(line)+'\\n')\n",
    "a.close()"
   ]
  },
  {
   "cell_type": "code",
   "execution_count": null,
   "metadata": {
    "collapsed": true
   },
   "outputs": [],
   "source": []
  },
  {
   "cell_type": "code",
   "execution_count": null,
   "metadata": {
    "collapsed": true
   },
   "outputs": [],
   "source": []
  }
 ],
 "metadata": {
  "anaconda-cloud": {},
  "kernelspec": {
   "display_name": "Python 3",
   "language": "python",
   "name": "python3"
  },
  "language_info": {
   "codemirror_mode": {
    "name": "ipython",
    "version": 3
   },
   "file_extension": ".py",
   "mimetype": "text/x-python",
   "name": "python",
   "nbconvert_exporter": "python",
   "pygments_lexer": "ipython3",
   "version": "3.5.2"
  }
 },
 "nbformat": 4,
 "nbformat_minor": 1
}
