{
 "cells": [
  {
   "cell_type": "code",
   "execution_count": 1,
   "metadata": {
    "collapsed": false
   },
   "outputs": [
    {
     "name": "stdout",
     "output_type": "stream",
     "text": [
      "/local_data/dgrossman/VeRi\n"
     ]
    }
   ],
   "source": [
    "cd '/local_data/dgrossman/VeRi/'"
   ]
  },
  {
   "cell_type": "code",
   "execution_count": 29,
   "metadata": {
    "collapsed": false
   },
   "outputs": [],
   "source": [
    "import h5py\n",
    "import json\n",
    "import numpy as np\n",
    "\n",
    "def makeJsonList(fileName):\n",
    "    retval = list()\n",
    "    with open(fileName,'r') as f:\n",
    "        for line in f:\n",
    "            line = line.strip()\n",
    "            line = json.loads(line)\n",
    "            retval.append(line)\n",
    "    return retval\n",
    "\n",
    "def extractColumn(colName,jsonList,t):\n",
    "    retval = list()\n",
    "    for line in jsonList:\n",
    "        if t == str:\n",
    "            retval.append(str(line[colName]).encode('ascii','ignore'))\n",
    "        if t == int:\n",
    "            retval.append(int(line[colName]))\n",
    "        if t == float:\n",
    "            for element in line[colName]:\n",
    "                retval.append(float(element))\n",
    "    return retval\n",
    "\n",
    "def make5file(file5Name, names, jsonList):\n",
    "    with h5py.File(file5Name,'w') as f:  \n",
    "        for o, i, t, t2 in names:\n",
    "            print(o,i)\n",
    "            temp = extractColumn(o,jsonList,t)\n",
    "            f.create_dataset(i,data=temp,dtype=t2)\n",
    "\n",
    "def main(inFileName,outFileName):\n",
    "    jsonList = makeJsonList(inFileName)\n",
    "    f = np.dtype('float')\n",
    "    c = h5py.special_dtype(vlen=bytes)\n",
    "    names = [('colorID','colorID',int,int), ('vehicleID','vehicleID',str,c), ('resnet50','feats',float,f), ('imageName','ids',str,c), ('typeID','typeID',int,int), ('cameraID','cameraID',str,c)]\n",
    "    make5file(outFileNAme,names,jsonList)\n",
    "    \n",
    "if __name__ == '__main__':\n",
    "    main(sys.argv[1],sys.argv[2])"
   ]
  },
  {
   "cell_type": "code",
   "execution_count": 18,
   "metadata": {
    "collapsed": false
   },
   "outputs": [],
   "source": [
    "main('./test_uniqfile.json','./test_uniqfile.p5')"
   ]
  },
  {
   "cell_type": "code",
   "execution_count": 19,
   "metadata": {
    "collapsed": false
   },
   "outputs": [
    {
     "data": {
      "text/plain": [
       "dict_keys(['cameraID', 'typeID', 'vehicleID', 'colorID', 'resnet50', 'imageName'])"
      ]
     },
     "execution_count": 19,
     "metadata": {},
     "output_type": "execute_result"
    }
   ],
   "source": [
    "jsonList[0].keys()"
   ]
  },
  {
   "cell_type": "code",
   "execution_count": 20,
   "metadata": {
    "collapsed": true
   },
   "outputs": [],
   "source": [
    "f = np.dtype('float')\n",
    "c = h5py.special_dtype(vlen=bytes)\n",
    "names = [('colorID','colorID',int,int), ('vehicleID','vehicleID',str,c), ('resnet50','feats',float,f), ('imageName','ids',str,c), ('typeID','typeID',int,int), ('cameraID','cameraID',str,c)]"
   ]
  },
  {
   "cell_type": "code",
   "execution_count": 28,
   "metadata": {
    "collapsed": false
   },
   "outputs": [
    {
     "name": "stdout",
     "output_type": "stream",
     "text": [
      "colorID colorID\n",
      "vehicleID vehicleID\n",
      "resnet50 feats\n",
      "imageName ids\n",
      "typeID typeID\n",
      "cameraID cameraID\n"
     ]
    }
   ],
   "source": [
    "make5file('1test_features',names,jsonList)"
   ]
  },
  {
   "cell_type": "code",
   "execution_count": null,
   "metadata": {
    "collapsed": true
   },
   "outputs": [],
   "source": []
  }
 ],
 "metadata": {
  "anaconda-cloud": {},
  "kernelspec": {
   "display_name": "Python 3",
   "language": "python",
   "name": "python3"
  },
  "language_info": {
   "codemirror_mode": {
    "name": "ipython",
    "version": 3
   },
   "file_extension": ".py",
   "mimetype": "text/x-python",
   "name": "python",
   "nbconvert_exporter": "python",
   "pygments_lexer": "ipython3",
   "version": "3.5.2"
  }
 },
 "nbformat": 4,
 "nbformat_minor": 1
}
