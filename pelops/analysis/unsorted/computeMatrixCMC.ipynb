{
 "cells": [
  {
   "cell_type": "code",
   "execution_count": 1,
   "metadata": {
    "collapsed": false
   },
   "outputs": [],
   "source": [
    "import json\n",
    "from collections import defaultdict\n",
    "import time\n",
    "from matplotlib import pyplot\n",
    "import numpy as np"
   ]
  },
  {
   "cell_type": "code",
   "execution_count": 2,
   "metadata": {
    "collapsed": false
   },
   "outputs": [],
   "source": [
    "def makeTransDicts(reindexFile):\n",
    "    reindex = open(reindexFile,'r')\n",
    "    file2num = dict()\n",
    "    num2file = dict()\n",
    "    index = 0\n",
    "    for line in reindex:\n",
    "        line = line.strip()\n",
    "        file2num[line] = index\n",
    "        num2file[index] = line\n",
    "        index +=1\n",
    "    return (file2num,num2file)"
   ]
  },
  {
   "cell_type": "code",
   "execution_count": 3,
   "metadata": {
    "collapsed": false
   },
   "outputs": [],
   "source": [
    "def makeMatrix(matrixFilename, num2file, file2num, measure='cosine'):\n",
    "    \n",
    "    a = open(matrixFilename,'r')\n",
    "    lines = 0\n",
    "    for line in a:\n",
    "        lines +=1\n",
    "    a.close()\n",
    "    \n",
    "    Matrix = [[0 for x in range(lines)] for y in range(lines)]\n",
    "    matrixFile = open(matrixFilename,'r')\n",
    "    for line in matrixFile:\n",
    "        \n",
    "        line = line.strip()\n",
    "        line = json.loads(line)\n",
    "        x=file2num[line['x']]\n",
    "        y=file2num[line['y']]\n",
    "        Matrix[x][y] = line[measure]\n",
    "        Matrix[y][x] = line[measure]\n",
    "        \n",
    "    for index in range(0,lines):\n",
    "        Matrix[index][index]=8675309\n",
    "    return Matrix"
   ]
  },
  {
   "cell_type": "code",
   "execution_count": 4,
   "metadata": {
    "collapsed": false
   },
   "outputs": [],
   "source": [
    "def getrank(car,s,maxval=-1):\n",
    "    for sidx,work in enumerate(s):\n",
    "        sval = work[0]\n",
    "        scar = work[1]\n",
    "        if scar == car:\n",
    "            return sidx\n",
    "    return maxval"
   ]
  },
  {
   "cell_type": "code",
   "execution_count": 5,
   "metadata": {
    "collapsed": false
   },
   "outputs": [],
   "source": [
    "def preCMC(Matrix,num2file,downto=50):\n",
    "    retval= defaultdict(int)\n",
    "    start = time.time()\n",
    "    size = len(Matrix[0])\n",
    "\n",
    "    for oindex in range(size):\n",
    "        if oindex % 1000 == 0:\n",
    "            print('index:{0} time:{1}'.format(oindex,time.time() - start))\n",
    "            start = time.time()\n",
    "        \n",
    "        car = num2file[oindex].split('_')[0]\n",
    "    \n",
    "        current = list()\n",
    "\n",
    "        for idx,val in enumerate(Matrix[oindex]):\n",
    "            current.append((float(val),num2file[idx].split('_')[0]))\n",
    "        \n",
    "        s = sorted(current, key=lambda tup: tup[0])[:downto]\n",
    "        found = False\n",
    "        r = getrank(car,s,maxval=downto+1)\n",
    "        retval[r] += 1\n",
    "    return retval"
   ]
  },
  {
   "cell_type": "code",
   "execution_count": 6,
   "metadata": {
    "collapsed": false
   },
   "outputs": [],
   "source": [
    "def computeCMC(rawCounts,num):\n",
    "    idx = sorted(rawCounts)\n",
    "    sum = 0\n",
    "    CMC = list()\n",
    "    for index in range(0,len(idx)):\n",
    "        sum += rawCounts[index]\n",
    "        print (index,sum)\n",
    "        CMC.append(sum/num)\n",
    "    return CMC"
   ]
  },
  {
   "cell_type": "code",
   "execution_count": null,
   "metadata": {
    "collapsed": false
   },
   "outputs": [],
   "source": [
    "testFilesName = '/local_data/dgrossman/VeRi/test_uniqfiles'\n",
    "matrixFilename = '/local_data/dgrossman/VeRi/matrixFile.test_uniqfile'\n",
    "file2num, num2file = makeTransDicts(testFilesName)\n",
    "Matrix = makeMatrix(matrixFilename, num2file, file2num)\n",
    "rawCounts = preCMC(Matrix,num2file)\n",
    "CMC = computeCMC(rawCounts,len(Matrix[0]))\n",
    "    "
   ]
  },
  {
   "cell_type": "code",
   "execution_count": null,
   "metadata": {
    "collapsed": false
   },
   "outputs": [],
   "source": [
    "#pyplot.ylim(0,1)\n",
    "pyplot.plot(CMC[:-1])\n",
    "pyplot.show()\n"
   ]
  }
 ],
 "metadata": {
  "anaconda-cloud": {},
  "kernelspec": {
   "display_name": "Python 3",
   "language": "python",
   "name": "python3"
  },
  "language_info": {
   "codemirror_mode": {
    "name": "ipython",
    "version": 3
   },
   "file_extension": ".py",
   "mimetype": "text/x-python",
   "name": "python",
   "nbconvert_exporter": "python",
   "pygments_lexer": "ipython3",
   "version": "3.5.2"
  }
 },
 "nbformat": 4,
 "nbformat_minor": 1
}
