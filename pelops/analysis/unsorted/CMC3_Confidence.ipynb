{
 "cells": [
  {
   "cell_type": "code",
   "execution_count": 1,
   "metadata": {
    "collapsed": false
   },
   "outputs": [],
   "source": [
    "%matplotlib inline\n",
    "import matplotlib.pyplot as plt\n",
    "import time\n",
    "import numpy as np\n",
    "from pelops.datasets.featuredataset import FeatureDataset\n",
    "from pelops.experiment_api.experiment import ExperimentGenerator\n",
    "from pelops.datasets import chip\n",
    "from collections import defaultdict\n",
    "from scipy.spatial.distance import cosine, euclidean\n",
    "from matplotlib.font_manager import FontProperties\n",
    "from tqdm import tnrange, tqdm_notebook\n",
    "from itertools import combinations"
   ]
  },
  {
   "cell_type": "code",
   "execution_count": 2,
   "metadata": {
    "collapsed": false
   },
   "outputs": [],
   "source": [
    "# do the comparisons between chips\n",
    "\n",
    "def is_correct_match3(fd,cam1, cam2, cam3, comparison='cosine'):\n",
    "    distances = []\n",
    "    lookup = dict()\n",
    "    for cam1_chip in cam1:\n",
    "        cam1_feat = fd.get_feats_for_chip(cam1_chip)\n",
    "        for cam2_chip in cam2:\n",
    "            cam2_feat = fd.get_feats_for_chip(cam2_chip)\n",
    "            for cam3_chip in cam3:\n",
    "                cam3_feat = fd.get_feats_for_chip(cam3_chip)\n",
    "                featArray = [cam1_feat,cam2_feat,cam3_feat]\n",
    "                distance = 0\n",
    "                for f1,f2 in combinations(featArray,2):\n",
    "                        distance += 1-(cosine(f1,f2))\n",
    "                distances.append((distance, cam1_chip, cam2_chip, cam3_chip))\n",
    "            \n",
    "    distances.sort(reverse=True)\n",
    "   \n",
    "    for i, (distance, chip1, chip2, chip3) in enumerate(distances):\n",
    "        # return best_match\n",
    "        if chip1.car_id == chip2.car_id == chip3.car_id:\n",
    "            return i\n",
    "    raise ValueError(\"Huh?\")\n"
   ]
  },
  {
   "cell_type": "code",
   "execution_count": 44,
   "metadata": {
    "collapsed": true
   },
   "outputs": [],
   "source": [
    "def is_correct_match4(fd,cam1, cam2, cam3,cam4, comparison='cosine'):\n",
    "    distances = []\n",
    "    lookup = dict()\n",
    "    for cam1_chip in cam1:\n",
    "        # cam1_feat = fd.get_feats_for_chip(cam1_chip)\n",
    "        for cam2_chip in cam2:\n",
    "            # cam2_feat = fd.get_feats_for_chip(cam2_chip)\n",
    "            for cam3_chip in cam3:\n",
    "                # cam3_feat = fd.get_feats_for_chip(cam3_chip)\n",
    "                for cam4_chip in cam4:\n",
    "                    featArray = [cam1_chip,cam2_chip,cam3_chip,cam4_chip]\n",
    "                    distance = 0\n",
    "                    for f1,f2 in combinations(featArray,2):\n",
    "                            F1 = fd.get_feats_for_chip(f1)\n",
    "                            F2 = fd.get_feats_for_chip(f2)\n",
    "                            key1 = (f1.filepath,f2.filepath)\n",
    "                            key2 = (f2.filepath,f1.filepath)\n",
    "                            if key1 not in lookup:\n",
    "                                d = 1-(cosine(F1,F2))\n",
    "                                lookup[key1] = d\n",
    "                                lookup[key2] = d\n",
    "                            distance += lookup[key1]\n",
    "                    distances.append((distance, cam1_chip, cam2_chip, cam3_chip, cam4_chip))\n",
    "\n",
    "    distances.sort(reverse=True)\n",
    "   \n",
    "    for i, (distance, chip1, chip2, chip3, chip4) in enumerate(distances):\n",
    "        # return best_match\n",
    "        if chip1.car_id == chip2.car_id == chip3.car_id == chip4.car_id:\n",
    "            return i\n",
    "    raise ValueError(\"Huh?\")"
   ]
  },
  {
   "cell_type": "code",
   "execution_count": 46,
   "metadata": {
    "collapsed": false
   },
   "outputs": [],
   "source": [
    "# do EXPERIMENTS, determine \n",
    "def preCMC(fd,eg,EXPERIMENTS=100):\n",
    "   \n",
    "    num_downs = defaultdict(int)\n",
    "    for i in range(EXPERIMENTS):\n",
    "        a = eg.generate()\n",
    "        num_down = is_correct_match4(fd,a[0], a[1], a[2], a[3])\n",
    "        num_downs[num_down] += 1\n",
    "        \n",
    "    keys = sorted(num_downs)\n",
    "    vals = [num_downs[key] for key in keys]\n",
    "    return((keys,np.array(vals)/EXPERIMENTS))"
   ]
  },
  {
   "cell_type": "code",
   "execution_count": 47,
   "metadata": {
    "collapsed": false
   },
   "outputs": [],
   "source": [
    "# Generate unprocessed CMC curves \n",
    "# the data needs to be summed to make the correct\n",
    "# CMC curve\n",
    "def makeManyPreCMC(fd,eg,N=100,EXPERIMENTS=100):\n",
    "    experimentHolder = []\n",
    "    for experiment in tnrange(N):\n",
    "        experimentHolder.append(preCMC(fd,eg,EXPERIMENTS=EXPERIMENTS))\n",
    "    return experimentHolder"
   ]
  },
  {
   "cell_type": "code",
   "execution_count": 48,
   "metadata": {
    "collapsed": false
   },
   "outputs": [],
   "source": [
    "# finalize creation of the CMC curves\n",
    "# generate statistics on the CMC curves\n",
    "# return all\n",
    "import math\n",
    "def makeCMCStats(experimentHolder,itemsPerCamera,cameras):\n",
    "    comparisons = int(math.pow(itemsPerCamera,cameras))\n",
    "    stats = np.zeros((len(experimentHolder),comparisons))\n",
    "\n",
    "    for index,(keys,vals) in enumerate(experimentHolder):\n",
    "        for keyIndex in range(len(keys)):\n",
    "            stats[index,keys[keyIndex]] = vals[keyIndex]\n",
    "\n",
    "\n",
    "    for index in range(len(stats[:,])):\n",
    "        total_sum = 0.0\n",
    "        offsetlen = len(stats[0])\n",
    "        for sample in range(offsetlen):\n",
    "            total_sum += stats[index,sample] \n",
    "            stats[index,sample] = total_sum         \n",
    "\n",
    "    gdata = np.zeros((3,comparisons))\n",
    "\n",
    "    for i in range(comparisons):\n",
    "        gdata[1,i] = np.average(stats[:,i])\n",
    "    for i in range(comparisons):\n",
    "        stddev  = np.std(stats[:,i])\n",
    "        gdata[0,i] = gdata[1,i] - stddev\n",
    "        gdata[2,i] = gdata[1,i] + stddev\n",
    "    \n",
    "    return (stats,gdata)"
   ]
  },
  {
   "cell_type": "code",
   "execution_count": 49,
   "metadata": {
    "collapsed": true
   },
   "outputs": [],
   "source": [
    "DATASETFILE = '/local_data/dgrossman/test4'\n",
    "ITEMSPERCAMERA = 5\n",
    "NUMCAMERAS = 4\n",
    "YRANDOM=1024\n",
    "DROPPED=0\n",
    "CMC=100\n",
    "EXPERIMENTS=100"
   ]
  },
  {
   "cell_type": "code",
   "execution_count": 50,
   "metadata": {
    "collapsed": false
   },
   "outputs": [],
   "source": [
    "#do the math\n",
    "fd_x = FeatureDataset(DATASETFILE)\n",
    "eg_x = ExperimentGenerator(fd_x, NUMCAMERAS, ITEMSPERCAMERA, DROPPED, YRANDOM)"
   ]
  },
  {
   "cell_type": "code",
   "execution_count": 38,
   "metadata": {
    "collapsed": false
   },
   "outputs": [
    {
     "data": {
      "text/plain": [
       "3"
      ]
     },
     "execution_count": 38,
     "metadata": {},
     "output_type": "execute_result"
    }
   ],
   "source": [
    "l = eg_x.generate()"
   ]
  },
  {
   "cell_type": "code",
   "execution_count": 51,
   "metadata": {
    "collapsed": false
   },
   "outputs": [
    {
     "name": "stdout",
     "output_type": "stream",
     "text": [
      "\n"
     ]
    }
   ],
   "source": [
    "experimentHolder = makeManyPreCMC(fd_x,eg_x,N=CMC,EXPERIMENTS=EXPERIMENTS)\n"
   ]
  },
  {
   "cell_type": "code",
   "execution_count": 52,
   "metadata": {
    "collapsed": false
   },
   "outputs": [],
   "source": [
    "stats,gdata = makeCMCStats(experimentHolder,ITEMSPERCAMERA,NUMCAMERAS)"
   ]
  },
  {
   "cell_type": "code",
   "execution_count": 53,
   "metadata": {
    "collapsed": false
   },
   "outputs": [
    {
     "data": {
      "image/png": "[encoded data removed]",
      "text/plain": [
       "<matplotlib.figure.Figure at 0x7f54aab39470>"
      ]
     },
     "metadata": {},
     "output_type": "display_data"
    }
   ],
   "source": [
    "#make the plots\n",
    "fig = plt.figure()\n",
    "ax = plt.subplot(111)\n",
    "\n",
    "ax.plot(gdata.transpose())\n",
    "plt.title('{} cameras {} CMC curves with {} experiments per curve'.format(NUMCAMERAS,CMC,EXPERIMENTS))\n",
    "ax.legend(('-stddev','avg','+stddev'),bbox_to_anchor=(1, -0.05),\n",
    "          fancybox=True, shadow=True, ncol=5)\n",
    "plt.grid(True)"
   ]
  },
  {
   "cell_type": "code",
   "execution_count": null,
   "metadata": {
    "collapsed": true
   },
   "outputs": [],
   "source": [
    "a = eg_x.generate()"
   ]
  },
  {
   "cell_type": "code",
   "execution_count": null,
   "metadata": {
    "collapsed": false
   },
   "outputs": [],
   "source": [
    "a[0]"
   ]
  },
  {
   "cell_type": "code",
   "execution_count": null,
   "metadata": {
    "collapsed": true
   },
   "outputs": [],
   "source": []
  }
 ],
 "metadata": {
  "anaconda-cloud": {},
  "kernelspec": {
   "display_name": "Python 3",
   "language": "python",
   "name": "python3"
  },
  "language_info": {
   "codemirror_mode": {
    "name": "ipython",
    "version": 3
   },
   "file_extension": ".py",
   "mimetype": "text/x-python",
   "name": "python",
   "nbconvert_exporter": "python",
   "pygments_lexer": "ipython3",
   "version": "3.5.2"
  },
  "widgets": {
   "state": {
    "2c9e31a25e184c86a8f7cacd8c9c3a1a": {
     "views": [
      {
       "cell_index": 9
      }
     ]
    }
   },
   "version": "1.2.0"
  }
 },
 "nbformat": 4,
 "nbformat_minor": 2
}
