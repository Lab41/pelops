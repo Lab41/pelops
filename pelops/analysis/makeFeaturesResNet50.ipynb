{
 "cells": [
  {
   "cell_type": "code",
   "execution_count": null,
   "metadata": {},
   "outputs": [],
   "source": [
    "cd 'deep-learning-models/'"
   ]
  },
  {
   "cell_type": "code",
   "execution_count": null,
   "metadata": {},
   "outputs": [],
   "source": [
    "import numpy as np\n",
    "from resnet50 import ResNet50\n",
    "from keras.preprocessing import image\n",
    "from imagenet_utils import preprocess_input, decode_predictions\n",
    "from keras.models import Model\n",
    "import scipy.spatial.distance\n",
    "import time\n",
    "import json\n"
   ]
  },
  {
   "cell_type": "code",
   "execution_count": null,
   "metadata": {},
   "outputs": [],
   "source": [
    "def load_image(img_path):\n",
    "    data = image.load_img(img_path, target_size=(224, 224))\n",
    "    x = image.img_to_array(data)\n",
    "    x = np.expand_dims(x, axis=0)\n",
    "    x = preprocess_input(x)\n",
    "    return x"
   ]
  },
  {
   "cell_type": "code",
   "execution_count": null,
   "metadata": {},
   "outputs": [],
   "source": [
    "#def get_base_model():\n",
    "#    base_model = ResNet50(weights='imagenet',include_top=False)\n",
    "#    return base_model\n",
    "\n",
    "def get_models():\n",
    "    # include_top needs to be True for this to work\n",
    "    base_model = ResNet50(weights='imagenet',include_top=True)\n",
    "    model = Model(input=base_model.input, output=base_model.get_layer('flatten_1').output)\n",
    "    return (model, base_model)\n",
    "\n",
    "def image_features(img,model):\n",
    "    features = np.zeros((1,2048),dtype=np.float16)\n",
    "    #model = Model(input=base_model.input, output=base_model.get_layer('flatten_1').output)\n",
    "    predictions = model.predict(img)\n",
    "    return predictions"
   ]
  },
  {
   "cell_type": "code",
   "execution_count": null,
   "metadata": {},
   "outputs": [],
   "source": [
    "model, base_model = get_models()"
   ]
  },
  {
   "cell_type": "code",
   "execution_count": null,
   "metadata": {},
   "outputs": [],
   "source": [
    "# model = Model(input=bm.input, output=bm.get_layer('flatten_1').output)"
   ]
  },
  {
   "cell_type": "code",
   "execution_count": null,
   "metadata": {},
   "outputs": [],
   "source": [
    "def save_model_workaround(model, model_output_file, weights_output_file):\n",
    "    print('saving model   to {}'.format(model_output_file))\n",
    "    print('saving weignts to {}'.format(weights_output_file))\n",
    "    # serialize model to JSON\n",
    "    model_json = model.to_json()\n",
    "    with open(model_output_file, 'w') as json_file:\n",
    "        json_file.write(model_json)\n",
    "    # serialize weights to HDF5\n",
    "    model.save_weights(weights_output_file)\n",
    "\n",
    "\n",
    "def load_model_workaround(model_output_file, weights_output_file):\n",
    "    # load json and create model\n",
    "    json_file = open(model_output_file, 'r')\n",
    "    loaded_model_json = json_file.read()\n",
    "    json_file.close()\n",
    "    loaded_model = model_from_json(loaded_model_json)\n",
    "    # load weights into new model\n",
    "    loaded_model.load_weights(weights_output_file)\n",
    "    return loaded_model"
   ]
  },
  {
   "cell_type": "code",
   "execution_count": null,
   "metadata": {},
   "outputs": [],
   "source": [
    "save_model_workaround(model,\n",
    "                      '/local_data/dgrossman/model_save_dir/dgcars_resenet.model.json',\n",
    "                      '/local_data/dgrossman/model_save_dir/dgcars_resenet.weights.hdf5')"
   ]
  },
  {
   "cell_type": "code",
   "execution_count": null,
   "metadata": {},
   "outputs": [],
   "source": [
    "# print(scipy.spatial.distance.cosine(feature1,feature2),'good')\n",
    "# print(scipy.spatial.distance.cosine(feature1,feature3),'bad')\n",
    "# print(scipy.spatial.distance.cosine(feature2,feature3),'bad')"
   ]
  },
  {
   "cell_type": "code",
   "execution_count": null,
   "metadata": {},
   "outputs": [],
   "source": [
    "prefix = '/local_data/dgrossman/VeRi/'\n"
   ]
  },
  {
   "cell_type": "code",
   "execution_count": null,
   "metadata": {},
   "outputs": [],
   "source": []
  },
  {
   "cell_type": "code",
   "execution_count": null,
   "metadata": {},
   "outputs": [],
   "source": [
    "tLines = open(prefix + 'trainingLines','r')\n",
    "trainingList = list()\n",
    "for tLine in tLines:\n",
    "    tLine = tLine.strip()\n",
    "    tLine = tLine.replace('\"','')\n",
    "    parts = tLine.split(' ')\n",
    "    ldict = dict()\n",
    "    for part in parts:\n",
    "        l, r = part.split('=')\n",
    "        ldict[l]=str(r)\n",
    "    trainingList.append(ldict)\n",
    "tLines.close()"
   ]
  },
  {
   "cell_type": "code",
   "execution_count": null,
   "metadata": {},
   "outputs": [],
   "source": [
    "trainingList = list()\n",
    "tLines = open(prefix + 'test_features.json','r')\n",
    "for line in tLines:\n",
    "    line = line.strip()\n",
    "    line = json.loads(line)\n",
    "    trainingList.append(line)"
   ]
  },
  {
   "cell_type": "code",
   "execution_count": null,
   "metadata": {},
   "outputs": [],
   "source": [
    "trainingList[0]"
   ]
  },
  {
   "cell_type": "code",
   "execution_count": null,
   "metadata": {},
   "outputs": [],
   "source": [
    "import json\n",
    "#outFile = open('/local_data/dgrossman/VeRi/training_features.json','w')\n",
    "outFile = open('/local_data/dgrossman/VeRi/test_features.json','w')\n",
    "\n",
    "batchSize = 1000\n",
    "start = time.time()\n",
    "for idx,line in enumerate(trainingList):\n",
    "    tempd = dict()\n",
    "    if idx % batchSize == 0:\n",
    "        end = time.time() - start\n",
    "        start = time.time()\n",
    "        print ('total {0} batch {1} images in {2} seconds'.format(idx,batchSize,end))\n",
    "    #img = load_image(prefix + 'image_train/'+line['imageName'])\n",
    "    img = load_image(prefix + 'image_test/'+line['imageName'])\n",
    "    feature = image_features(img, model) \n",
    "    tempd['resnet50'] = feature.tolist()[0]\n",
    "    tempd.update(line)\n",
    "    outFile.write(json.dumps(tempd)+'\\n')\n",
    "outFile.close()"
   ]
  },
  {
   "cell_type": "code",
   "execution_count": null,
   "metadata": {},
   "outputs": [],
   "source": []
  },
  {
   "cell_type": "code",
   "execution_count": null,
   "metadata": {},
   "outputs": [],
   "source": [
    "funtime = open('/local_data/dgrossman/VeRi/training_features.json','r')\n",
    "work = list()\n",
    "for line in funtime:\n",
    "    line = line.strip()\n",
    "    line = json.loads(line)\n",
    "    work.append(line)\n",
    "funtime.close()"
   ]
  },
  {
   "cell_type": "code",
   "execution_count": null,
   "metadata": {},
   "outputs": [],
   "source": [
    "work[0]\n"
   ]
  }
 ],
 "metadata": {
  "anaconda-cloud": {},
  "kernelspec": {
   "display_name": "Python 3",
   "language": "python",
   "name": "python3"
  },
  "language_info": {
   "codemirror_mode": {
    "name": "ipython",
    "version": 3
   },
   "file_extension": ".py",
   "mimetype": "text/x-python",
   "name": "python",
   "nbconvert_exporter": "python",
   "pygments_lexer": "ipython3",
   "version": "3.5.2"
  }
 },
 "nbformat": 4,
 "nbformat_minor": 1
}
