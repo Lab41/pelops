{
 "cells": [
  {
   "cell_type": "code",
   "execution_count": null,
   "metadata": {},
   "outputs": [],
   "source": [
    "from pelops.analysis.unsorted.recompute.compute import do_training"
   ]
  },
  {
   "cell_type": "code",
   "execution_count": null,
   "metadata": {},
   "outputs": [],
   "source": [
    "tbld = '/local_data/dgrossman/tensorboard_logs'\n",
    "mcfs = '/local_data/dgrossman/model_save_dir/dg_carsweights.{epoch:02d}-{val_loss:.2f}-{val_acc:.2f}.hdf5'\n",
    "batch_size=32\n"
   ]
  },
  {
   "cell_type": "code",
   "execution_count": null,
   "metadata": {},
   "outputs": [],
   "source": [
    "training_basepath = '/local_data/dgrossman/keras/make_model/train'\n",
    "validation_basepath = '/local_data/dgrossman/keras/make_model/validate'\n",
    "\n",
    "model_output_file = '/local_data/dgrossman/model_save_dir/dgcars_resenet-make_model.model.json'\n",
    "weights_output_file = '/local_data/dgrossman/model_save_dir/dgcars_resenet-make_model.weights.hdf5'\n",
    "\n",
    "do_training(training_basepath,validation_basepath, model_output_file, weights_output_file, tbld, mcfs, 32)"
   ]
  },
  {
   "cell_type": "code",
   "execution_count": null,
   "metadata": {},
   "outputs": [],
   "source": [
    "training_basepath = '/local_data/dgrossman/keras/color/train'\n",
    "validation_basepath = '/local_data/dgrossman/keras/color/validate'\n",
    "\n",
    "model_output_file = '/local_data/dgrossman/model_save_dir/dgcars_resenet-color.model.json'\n",
    "weights_output_file = '/local_data/dgrossman/model_save_dir/dgcars_resenet-color.weights.hdf5'\n",
    "\n",
    "do_training(training_basepath,validation_basepath, model_output_file, weights_output_file, tbld, mcfs, 32)"
   ]
  },
  {
   "cell_type": "code",
   "execution_count": null,
   "metadata": {},
   "outputs": [],
   "source": [
    "training_basepath = '/local_data/dgrossman/keras/color_body_type/train'\n",
    "validation_basepath = '/local_data/dgrossman/keras/color_body_type/validate'\n",
    "\n",
    "model_output_file = '/local_data/dgrossman/model_save_dir/dgcars_resenet-color_body_type.model2.json'\n",
    "weights_output_file = '/local_data/dgrossman/model_save_dir/dgcars_resenet-color_body_type.weights2.hdf5'\n",
    "\n",
    "do_training(training_basepath,validation_basepath, model_output_file, weights_output_file, tbld, mcfs, 32)"
   ]
  },
  {
   "cell_type": "code",
   "execution_count": null,
   "metadata": {},
   "outputs": [],
   "source": [
    "training_basepath = '/local_data/dgrossman/keras/body_type/train'\n",
    "validation_basepath = '/local_data/dgrossman/keras/body_type/validate'\n",
    "\n",
    "model_output_file = '/local_data/dgrossman/model_save_dir/dgcars_resenet-body_type.model.json'\n",
    "weights_output_file = '/local_data/dgrossman/model_save_dir/dgcars_resenet-body_type.weights.hdf5'\n",
    "\n",
    "do_training(training_basepath,validation_basepath, model_output_file, weights_output_file, tbld, mcfs, 32)"
   ]
  },
  {
   "cell_type": "code",
   "execution_count": null,
   "metadata": {},
   "outputs": [],
   "source": [
    "training_basepath = '/local_data/teams/pelops/compcars_keras/make_model/train'\n",
    "validation_basepath = '/local_data/teams/pelops/compcars_keras/make_model/test'\n",
    "\n",
    "model_output_file = '/local_data/dgrossman/model_save_dir/compcars_resenet-make_model.model.json'\n",
    "weights_output_file = '/local_data/dgrossman/model_save_dir/compcars_resenet-make_model.weights.hdf5'\n",
    "\n",
    "do_training(training_basepath,validation_basepath, model_output_file, weights_output_file, tbld, mcfs, 32)"
   ]
  },
  {
   "cell_type": "code",
   "execution_count": null,
   "metadata": {},
   "outputs": [],
   "source": [
    "training_basepath = '/local_data/dgrossman/compcars/colors/train'\n",
    "validation_basepath = '/local_data/dgrossman/compcars/colors/test'\n",
    "\n",
    "model_output_file = '/local_data/dgrossman/model_save_dir/compcars_resenet-colors.model.json'\n",
    "weights_output_file = '/local_data/dgrossman/model_save_dir/compcars_resenet-colors.weights.hdf5'\n",
    "\n",
    "do_training(training_basepath,validation_basepath, model_output_file, weights_output_file, tbld, mcfs, 32)"
   ]
  }
 ],
 "metadata": {
  "kernelspec": {
   "display_name": "Python 3",
   "language": "python",
   "name": "python3"
  },
  "language_info": {
   "codemirror_mode": {
    "name": "ipython",
    "version": 3
   },
   "file_extension": ".py",
   "mimetype": "text/x-python",
   "name": "python",
   "nbconvert_exporter": "python",
   "pygments_lexer": "ipython3",
   "version": "3.5.2"
  }
 },
 "nbformat": 4,
 "nbformat_minor": 2
}
