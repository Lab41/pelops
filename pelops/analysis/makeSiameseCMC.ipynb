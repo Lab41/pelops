{
 "cells": [
  {
   "cell_type": "code",
   "execution_count": null,
   "metadata": {},
   "outputs": [],
   "source": [
    "import numpy as np\n",
    "from keras.applications.resnet50 import preprocess_input\n",
    "from keras.applications.resnet50 import ResNet50\n",
    "from keras.models import Model\n",
    "from keras.models import model_from_json\n",
    "from keras.preprocessing import image"
   ]
  },
  {
   "cell_type": "code",
   "execution_count": null,
   "metadata": {},
   "outputs": [],
   "source": [
    "from pelops.datasets.featuredataset import FeatureDataset\n",
    "from pelops.datasets.veri import VeriDataset\n",
    "import pelops.utils as utils\n",
    "from itertools import product\n",
    "from tqdm import tqdm\n",
    "from pelops.experiment_api.experiment import ExperimentGenerator\n",
    "from collections import defaultdict"
   ]
  },
  {
   "cell_type": "code",
   "execution_count": null,
   "metadata": {},
   "outputs": [],
   "source": [
    "def load_image(img_path, resizex=224, resizey=224):\n",
    "    data = image.load_img(img_path, target_size=(resizex, resizey))\n",
    "    x = image.img_to_array(data)\n",
    "    x = np.expand_dims(x, axis=0)\n",
    "    x = preprocess_input(x)\n",
    "    return x\n",
    "\n",
    "def load_model_workaround(model_file, weight_file):\n",
    "    # load json and create model\n",
    "    json_file = open(model_file, 'r')\n",
    "    loaded_model_json = json_file.read()\n",
    "    json_file.close()\n",
    "    loaded_model = model_from_json(loaded_model_json)\n",
    "    # load weights into new model\n",
    "    loaded_model.load_weights(weight_file)\n",
    "    return loaded_model"
   ]
  },
  {
   "cell_type": "code",
   "execution_count": null,
   "metadata": {},
   "outputs": [],
   "source": [
    "def comp_siamese(feats):\n",
    "    same_vehicle = feats[0]\n",
    "    return same_vehicle\n",
    "\n",
    "# do the comparisons between chips\n",
    "# cam1 - listing of chips seen at cam1\n",
    "# cam2 - listing of chips seen at cam2\n",
    "# comparison - function to compare 2 vectors should return small things\n",
    "#              when comparison is close, large otherwise\n",
    "# verbose - return more info if true\n",
    "def is_correct_match(predict,\n",
    "                     cam1,\n",
    "                     cam2,\n",
    "                     comparison=comp_siamese, verbose=False):\n",
    "    similarities = []\n",
    "    for cam1_chip in cam1:\n",
    "        left = cam1_chip.filepath\n",
    "        left_image = load_image(left)\n",
    "        for cam2_chip in cam2:\n",
    "            right = cam2_chip.filepath\n",
    "            right_image = load_image(right)\n",
    "            feat = predict([left_image,right_image])\n",
    "            similarity = comparison(feat.squeeze())\n",
    "            similarities.append((similarity, cam1_chip, cam2_chip))\n",
    "    similarities.sort(reverse=True) #GROSSMAN\n",
    "    for i, (similarity, chip1, chip2) in enumerate(similarities):\n",
    "        # return best_match\n",
    "        if chip1.car_id == chip2.car_id:\n",
    "            if verbose:\n",
    "                return i, similarities\n",
    "            else:\n",
    "                return i\n",
    "    raise ValueError(\"Huh?\")\n",
    "\n",
    "\n",
    "# do EXPPERCMC, determine\n",
    "# featureData - big table to look up data\n",
    "# experimentGen  - function to create experiments\n",
    "# EXPPERCMC - number of experiments to run for a single CMC\n",
    "# comparison - function to compare 2 feature vectors\n",
    "def pre_cmc(predict, experimentGen,\n",
    "            EXPPERCMC=100, comparison=comp_siamese):\n",
    "\n",
    "    num_downs = defaultdict(int)\n",
    "    for i in range(EXPPERCMC):\n",
    "        a = experimentGen.generate()\n",
    "        num_down = is_correct_match(predict, a[0], a[1],\n",
    "                                    comparison=comparison)\n",
    "        num_downs[num_down] += 1\n",
    "\n",
    "    keys = sorted(num_downs)\n",
    "    vals = [num_downs[key] for key in keys]\n",
    "    return((keys, np.array(vals)/EXPPERCMC))\n",
    "\n",
    "\n",
    "# Generate unprocessed CMC curves\n",
    "# the data needs to be summed to make the correct\n",
    "# CMC curve\n",
    "# featureData - FeatureDataset of chips\n",
    "# experimentGen - ExperimentGenerator\n",
    "# NUMCMC - number of CMC to build\n",
    "# EXPPERCMC - number of experiments run per CMC\n",
    "# comparison - function that compares two feature vectors returning\n",
    "#              distance measure, 0 -> close  big -> far\n",
    "def repeat_pre_cmc(predict, experimentGen, NUMCMC=100,\n",
    "                   EXPPERCMC=100, comparison=comp_siamese):\n",
    "    experimentHolder = []\n",
    "    for experiment in tqdm(range(NUMCMC)):\n",
    "        experimentHolder.append(pre_cmc(predict, experimentGen,\n",
    "                                        EXPPERCMC=EXPPERCMC,\n",
    "                                        comparison=comparison))\n",
    "    return experimentHolder\n",
    "\n",
    "\n",
    "# finalize creation of the CMC curves\n",
    "# generate statistics on the CMC curves\n",
    "# return all\n",
    "# experimentHolder - array of CMC curves\n",
    "# itemsPerCamera - number of items on a camera\n",
    "def make_cmc_stats(experimentHolder, itemsPerCamera):\n",
    "    comparisons = itemsPerCamera*itemsPerCamera\n",
    "    stats = np.zeros((len(experimentHolder), comparisons))\n",
    "\n",
    "    for index, (keys, vals) in enumerate(experimentHolder):\n",
    "        for keyIndex in range(len(keys)):\n",
    "            stats[index, keys[keyIndex]] = vals[keyIndex]\n",
    "\n",
    "    for index in range(len(stats[:, ])):\n",
    "        total_sum = 0.0\n",
    "        offsetlen = len(stats[0])\n",
    "        for sample in range(offsetlen):\n",
    "            total_sum += stats[index, sample]\n",
    "            stats[index, sample] = total_sum\n",
    "\n",
    "    gdata = np.zeros((3, comparisons))\n",
    "\n",
    "    for i in range(comparisons):\n",
    "        gdata[1, i] = np.average(stats[:, i])\n",
    "    for i in range(comparisons):\n",
    "        stddev = np.std(stats[:, i])\n",
    "        gdata[0, i] = gdata[1, i] - stddev\n",
    "        gdata[2, i] = gdata[1, i] + stddev\n",
    "\n",
    "    return (stats, gdata)"
   ]
  },
  {
   "cell_type": "code",
   "execution_count": null,
   "metadata": {},
   "outputs": [],
   "source": [
    "model = load_model_workaround('/local_data/dgrossman/model_save_dir/VeRi-siamese-weekend.model.json', \n",
    "                              '/local_data/dgrossman/model_save_dir/VeRi-siamese-weekend.weights.hdf5')"
   ]
  },
  {
   "cell_type": "code",
   "execution_count": null,
   "metadata": {},
   "outputs": [],
   "source": [
    "model.compile(optimizer='adam',\n",
    "                  loss='binary_crossentropy',\n",
    "                  metrics=['accuracy'])"
   ]
  },
  {
   "cell_type": "code",
   "execution_count": null,
   "metadata": {},
   "outputs": [],
   "source": [
    "ITEMSPERCAMERA = 10\n",
    "YRANDOM=1024\n",
    "CAMERAS=2\n",
    "DROPPED=0\n",
    "CMC=10\n",
    "EXPERIMENTS=100"
   ]
  },
  {
   "cell_type": "code",
   "execution_count": null,
   "metadata": {},
   "outputs": [],
   "source": [
    "veri_train = VeriDataset('/local_data/dgrossman/VeRi',set_type = utils.SetType.TRAIN.value)\n",
    "expGen_validate = ExperimentGenerator(veri_train, CAMERAS, ITEMSPERCAMERA, DROPPED, YRANDOM)"
   ]
  },
  {
   "cell_type": "code",
   "execution_count": null,
   "metadata": {},
   "outputs": [],
   "source": [
    "experimentHolder = repeat_pre_cmc(model.predict,expGen_validate,NUMCMC=CMC,EXPPERCMC=EXPERIMENTS)\n",
    "stats,gdata = make_cmc_stats(experimentHolder,ITEMSPERCAMERA)"
   ]
  },
  {
   "cell_type": "code",
   "execution_count": null,
   "metadata": {},
   "outputs": [],
   "source": [
    "%matplotlib inline\n",
    "import matplotlib.pyplot as plt\n",
    "\n",
    "#make the plots\n",
    "fig = plt.figure()\n",
    "ax = plt.subplot(111)\n",
    "\n",
    "ax.plot(gdata.transpose())\n",
    "plt.title('{} CMC curves with {} experiments per curve'.format(CMC,EXPERIMENTS))\n",
    "ax.legend(('-stddev','avg','+stddev'),bbox_to_anchor=(1, -0.05),\n",
    "          fancybox=True, shadow=True, ncol=5)"
   ]
  }
 ],
 "metadata": {
  "kernelspec": {
   "display_name": "Python 3",
   "language": "python",
   "name": "python3"
  },
  "language_info": {
   "codemirror_mode": {
    "name": "ipython",
    "version": 3
   },
   "file_extension": ".py",
   "mimetype": "text/x-python",
   "name": "python",
   "nbconvert_exporter": "python",
   "pygments_lexer": "ipython3",
   "version": "3.5.2"
  }
 },
 "nbformat": 4,
 "nbformat_minor": 2
}
