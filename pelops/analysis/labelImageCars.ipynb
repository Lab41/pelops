{
 "cells": [
  {
   "cell_type": "code",
   "execution_count": null,
   "metadata": {},
   "outputs": [],
   "source": [
    "import sys,os,os.path\n",
    "import tensorflow as tf\n",
    "os.environ['THEANO_FLAGS']='mode=FAST_RUN,device=gpu,floatX=float32'\n",
    "from keras import backend as K\n",
    "sess  = tf.Session()\n",
    "K.set_session(sess)"
   ]
  },
  {
   "cell_type": "code",
   "execution_count": null,
   "metadata": {},
   "outputs": [],
   "source": [
    "cd 'deep-learning-models/'"
   ]
  },
  {
   "cell_type": "code",
   "execution_count": null,
   "metadata": {},
   "outputs": [],
   "source": [
    "import json\n",
    "import time\n",
    "allFiles = 'allImages'\n",
    "root = '/local_data/dgrossman/dgCars/'\n",
    "af = open(allFiles,'r')\n",
    "data = list()\n",
    "for d in af:\n",
    "    d = d.strip()\n",
    "    data.append(json.loads(d))"
   ]
  },
  {
   "cell_type": "code",
   "execution_count": null,
   "metadata": {},
   "outputs": [],
   "source": [
    "from resnet50 import ResNet50\n",
    "from keras.preprocessing import image\n",
    "from imagenet_utils import preprocess_input, decode_predictions\n",
    "import numpy as np"
   ]
  },
  {
   "cell_type": "code",
   "execution_count": null,
   "metadata": {},
   "outputs": [],
   "source": [
    "s = time.time()\n",
    "model = ResNet50(weights='imagenet')\n",
    "print ('loadResNet50',time.time() - s)\n",
    "\n"
   ]
  },
  {
   "cell_type": "code",
   "execution_count": null,
   "metadata": {},
   "outputs": [],
   "source": [
    "good = list()\n",
    "bad = list()\n",
    "file = list()"
   ]
  },
  {
   "cell_type": "code",
   "execution_count": null,
   "metadata": {},
   "outputs": [],
   "source": [
    "interesting = set()\n",
    "\n",
    "for x in ['police_van','moving_van','car','pickup','suv','truck','crossover','van','minivan','sports_car','cab','racer','convertible','car_wheel','jeep','ambulance']:\n",
    "    interesting.add(x)\n",
    "\n",
    "count = 0\n",
    "im = 0\n",
    "#with tf.device('/gpu:0'):\n",
    "#    print ('time:',time.time())\n",
    "s = time.time()\n",
    "print ('time:',time.time() - s)\n",
    "if True:\n",
    "    for d in data:   \n",
    "        img_path = '{0}/{1}'.format(root,d['filename'])\n",
    "        flag = True\n",
    "        try:\n",
    "            img = image.load_img(img_path, target_size=(224, 224))\n",
    "\n",
    "        except:\n",
    "            #print('FILE :',d['filename'])\n",
    "            file.append(d)\n",
    "            flag = False\n",
    "\n",
    "        if flag:\n",
    "            x = image.img_to_array(img)\n",
    "            x = np.expand_dims(x, axis=0)\n",
    "            x = preprocess_input(x)\n",
    "            preds = model.predict(x)\n",
    "            predictions = decode_predictions(preds)[0][:4]\n",
    "            #out = ''\n",
    "            found = False\n",
    "            for prediction in predictions:\n",
    "                i,t,score = prediction\n",
    "                #out = d['filename'], prediction\n",
    "                if t in interesting:\n",
    "                    #out = 'GOOD'+' ' + d['filename']+' '+t\n",
    "                    good.append((d,t))\n",
    "                    found = True\n",
    "                    break\n",
    "            if not found:\n",
    "                bad.append((d,predictions[0][1]))\n",
    "                #out = 'BAD'+ ' ' + d['filename']+ ' ' + predictions[0][1]\n",
    "            #print (out)\n",
    "            #print ('Predicted',decode_predictions(preds)[0][:4],' sec:',time.time() - s )\n",
    "\n",
    "        atOnce = 10000\n",
    "        if count == atOnce:\n",
    "            count = 0\n",
    "            im = im + 1\n",
    "            z = time.time() - s\n",
    "            print('processed:',im * atOnce,'Images','good',len(good),'bad',len(bad),'file',len(file),z)\n",
    "            s = time.time()\n",
    "        count = count + 1"
   ]
  },
  {
   "cell_type": "code",
   "execution_count": null,
   "metadata": {},
   "outputs": [],
   "source": [
    "print('processed:',len(good) + len(bad) + len(file),'Images','good',len(good),'bad',len(bad),'file',len(file))"
   ]
  },
  {
   "cell_type": "code",
   "execution_count": null,
   "metadata": {},
   "outputs": [],
   "source": [
    "from collections import defaultdict\n",
    "q = defaultdict(int)"
   ]
  },
  {
   "cell_type": "code",
   "execution_count": null,
   "metadata": {},
   "outputs": [],
   "source": [
    "for b in good:\n",
    "    q[b[1]] = q[b[1]]+1"
   ]
  },
  {
   "cell_type": "code",
   "execution_count": null,
   "metadata": {},
   "outputs": [],
   "source": [
    "for qq in q:\n",
    "    print (qq,q[qq])\n"
   ]
  },
  {
   "cell_type": "code",
   "execution_count": null,
   "metadata": {},
   "outputs": [],
   "source": [
    "gfile = open('foundCars','w')\n",
    "    for g in good:\n",
    "        gfile.write(g+'\\n')\n",
    "gfile.close()"
   ]
  },
  {
   "cell_type": "code",
   "execution_count": null,
   "metadata": {},
   "outputs": [],
   "source": [
    "gfile = open('foundCars','w')\n",
    "for g in good:\n",
    "    dat, classification = g\n",
    "    dat['resnet50'] = classification\n",
    "    gfile.write(json.dumps(dat)+'\\n')\n",
    "gfile.close()\n"
   ]
  },
  {
   "cell_type": "code",
   "execution_count": null,
   "metadata": {},
   "outputs": [],
   "source": [
    "good[0]"
   ]
  },
  {
   "cell_type": "code",
   "execution_count": null,
   "metadata": {},
   "outputs": [],
   "source": [
    "7+2"
   ]
  },
  {
   "cell_type": "code",
   "execution_count": null,
   "metadata": {},
   "outputs": [],
   "source": []
  }
 ],
 "metadata": {
  "anaconda-cloud": {},
  "kernelspec": {
   "display_name": "Python 3",
   "language": "python",
   "name": "python3"
  },
  "language_info": {
   "codemirror_mode": {
    "name": "ipython",
    "version": 3
   },
   "file_extension": ".py",
   "mimetype": "text/x-python",
   "name": "python",
   "nbconvert_exporter": "python",
   "pygments_lexer": "ipython3",
   "version": "3.5.2"
  }
 },
 "nbformat": 4,
 "nbformat_minor": 1
}
