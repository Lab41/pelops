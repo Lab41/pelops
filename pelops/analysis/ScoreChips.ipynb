{
 "cells": [
  {
   "cell_type": "code",
   "execution_count": 1,
   "metadata": {
    "collapsed": false
   },
   "outputs": [],
   "source": [
    "import os\n",
    "from pelops.datasets.chipper import FrameProducer, ExtractedChip, Methods, Chipper\n",
    "import cv2\n",
    "from hdfs3 import HDFileSystem\n",
    "\n",
    "hdfs = HDFileSystem(host='namenode', port=8020)\n",
    "filenames = hdfs.glob('/datasets/texas_dot/Ending20160903/user/*.mp4')\n",
    "\n",
    "def get_info(filename):\n",
    "    bname = os.path.basename(filename)\n",
    "    return bname.split('-')[0], int(bname.split('-')[1])\n",
    "\n",
    "camera_name = 'IH10_Martin_20160903T225628-0'\n",
    "camera_name = 'IH37_Jones'\n",
    "\n",
    "filenames = sorted(filenames, key=get_info)\n",
    "filenames_filtered = [filename for filename in filenames if camera_name in filename]\n",
    "\n",
    "import glob\n",
    "filenames = sorted(glob.glob('/local_data/yonas/tmp/LA/2017/072/Claiborne1*.mp4'))[:-1][:5]\n",
    "fp = FrameProducer([filenames[0]], open_func=str, desired_framerate=5)\n",
    "\n",
    "#fp = FrameProducer([filenames_filtered[0]], hdfs.open)\n",
    "\n",
    "def apply_mask(input_arry):\n",
    "    input_arry[:125] = 0\n",
    "    input_arry[210:] = 0\n",
    "    return input_arry\n",
    "\n",
    "def expand_box(x,y,w,h, amount=5):\n",
    "    return x-amount, y-amount, w+amount*2, h+amount*2"
   ]
  },
  {
   "cell_type": "code",
   "execution_count": 2,
   "metadata": {
    "collapsed": false
   },
   "outputs": [],
   "source": [
    "def get_frame_lookup(fp, \n",
    "                     kernel_size=(25,25), \n",
    "                     threshold=30, \n",
    "                     chipping_method=Methods.BACKGROUND_SUB\n",
    "                    ):\n",
    "    chipper = Chipper(fp, \n",
    "                  mask_modifier=None,#mask_modifier,\n",
    "                  kernel_size = kernel_size,\n",
    "                  threshold = threshold,\n",
    "                  box_expander=None,#expand_box,\n",
    "                  chipping_method=chipping_method)\n",
    "\n",
    "    # Get chips by frame number\n",
    "    chips = []\n",
    "    for frame_chips in chipper:\n",
    "        chips.extend(frame_chips)\n",
    "\n",
    "    from collections import defaultdict\n",
    "    frame_lookup = defaultdict(list)\n",
    "    for ec in chips:\n",
    "        frame_lookup[ec.frame_number].append(ec)\n",
    "    return frame_lookup, chips"
   ]
  },
  {
   "cell_type": "code",
   "execution_count": 3,
   "metadata": {
    "collapsed": false
   },
   "outputs": [],
   "source": [
    "import xml.etree.ElementTree as ET\n",
    "from collections import namedtuple\n",
    "def get_xml_name(filename, frame_number):\n",
    "    # Get XML file name based on orignal image file name and frame\n",
    "    return '{}_{}_.xml'.format(os.path.basename(filename),frame_number)\n",
    "\n",
    "BBox =namedtuple('BBox', ['x','y', 'w', 'h'])\n",
    "\n",
    "def get_x_y_w_h(bbox):\n",
    "    xs = [x for x,y in bbox]\n",
    "    ys = [y for x,y in bbox]\n",
    "    min_x = min(xs)\n",
    "    min_y = min(ys)\n",
    "    max_x = max(xs)\n",
    "    max_y = max(ys)\n",
    "    return BBox(x=min_x, \n",
    "                y=min_y, \n",
    "                w=max_x-min_x, \n",
    "                h=max_y-min_y)\n",
    "\n",
    "def get_bboxes_from_xml(xml_obj):\n",
    "    for top_level_tag in xml_obj.iter('filename'):\n",
    "        frame_filename = top_level_tag.text\n",
    "    bboxes = []\n",
    "    for top_level_tag in xml_obj.iter('object'):\n",
    "        for polygon in top_level_tag.iter('polygon'):\n",
    "            pts = []\n",
    "            for pt in polygon.iter('pt'):\n",
    "                x = None\n",
    "                y = None\n",
    "                for dim in pt.iter():\n",
    "                    if dim.tag == 'x':\n",
    "                        x = int(dim.text)\n",
    "                    elif dim.tag == 'y':\n",
    "                        y = int(dim.text)\n",
    "                if x and y:\n",
    "                    pts.append((x,y))\n",
    "            bboxes.append(get_x_y_w_h(pts))\n",
    "    return frame_filename, bboxes\n",
    "\n",
    "def get_bboxes_from_file(filename):\n",
    "    tree = ET.parse(filename)\n",
    "    root = tree.getroot()\n",
    "    return get_bboxes_from_xml(root)"
   ]
  },
  {
   "cell_type": "code",
   "execution_count": 4,
   "metadata": {
    "collapsed": false
   },
   "outputs": [],
   "source": [
    "import glob\n",
    "xml_basepath = '/data/fs4/teams/pelops/labelme/annotations/'\n",
    "xml_files_lookup = {}\n",
    "for filename in glob.glob(os.path.join(xml_basepath, '*')):\n",
    "    xml_files_lookup[os.path.basename(filename)] = filename"
   ]
  },
  {
   "cell_type": "code",
   "execution_count": 5,
   "metadata": {
    "collapsed": false
   },
   "outputs": [],
   "source": [
    "def get_intersection_union(bbox1, bbox2):\n",
    "    # Top left of intersection\n",
    "    xA = max(bbox1.x, bbox2.x)\n",
    "    yA = max(bbox1.y, bbox2.y)\n",
    "    \n",
    "    # Bottom right\n",
    "    xB = min(bbox1.x+bbox1.w, bbox2.x+bbox2.w)\n",
    "    yB = min(bbox1.y+bbox1.h, bbox2.y+bbox2.h)\n",
    "    width = xB-xA\n",
    "    height = yB-yA\n",
    "    if width < 0 or height < 0:\n",
    "        return None\n",
    "    return (xA, yA, width, height)\n",
    "\n",
    "#def get_iou(bbox1, bbox2):\n",
    "#    _, _, w, h = get_intersection(bbox1, bbox2)\n",
    "#    return \n",
    "\n",
    "def get_iou(bbox1, bbox2):\n",
    "    # Top left of intersection\n",
    "    xA = max(bbox1.x, bbox2.x)\n",
    "    yA = max(bbox1.y, bbox2.y)\n",
    "    \n",
    "    # Bottom right\n",
    "    xB = min(bbox1.x+bbox1.w, bbox2.x+bbox2.w)\n",
    "    yB = min(bbox1.y+bbox1.h, bbox2.y+bbox2.h)\n",
    "    width = xB-xA\n",
    "    height = yB-yA\n",
    "    if width < 0 or height < 0:\n",
    "        return 0\n",
    "    else:\n",
    "        intersectionArea = (xB - xA + 1) * (yB - yA + 1)\n",
    "        unionArea = bbox1.w*bbox1.h + bbox2.w*bbox2.h\n",
    "        \n",
    "        return intersectionArea/float(unionArea - intersectionArea)\n",
    "\n",
    "    return (xA, yA, width, height)   "
   ]
  },
  {
   "cell_type": "code",
   "execution_count": 6,
   "metadata": {
    "collapsed": false
   },
   "outputs": [],
   "source": [
    "%matplotlib inline\n",
    "import matplotlib.pyplot as plt"
   ]
  },
  {
   "cell_type": "code",
   "execution_count": 7,
   "metadata": {
    "collapsed": true
   },
   "outputs": [],
   "source": [
    "from PIL import Image\n",
    "import numpy as np\n",
    "def visualize_perf(filename, bboxes1, bboxes2):\n",
    "    frame = Image.open('/data/fs4/teams/pelops/labelme/images/{}'.format(filename))\n",
    "    frame = np.uint8(frame)\n",
    "    for box in bboxes1:\n",
    "        x, y, w, h = box.x, box.y, box.w, box.h\n",
    "        cv2.rectangle(frame,(x,y),(x+w,y+h),(0,255,0),1)\n",
    "    for box in bboxes2:\n",
    "        x, y, w, h = box.x, box.y, box.w, box.h\n",
    "        cv2.rectangle(frame,(x,y),(x+w,y+h),(255,0,0),1)\n",
    "    \n",
    "    intersection = get_intersection_union(bboxes1[0], bboxes2[0])\n",
    "    if intersection:\n",
    "        x,y,w,h = intersection\n",
    "        cv2.rectangle(frame,(x,y),(x+w,y+h),(0,0,255),1)\n",
    "    plt.imshow(frame)"
   ]
  },
  {
   "cell_type": "code",
   "execution_count": 8,
   "metadata": {
    "collapsed": false
   },
   "outputs": [],
   "source": [
    "import itertools\n",
    "def score_frame_lookup(frame_lookup, chips):\n",
    "    video_ious = []\n",
    "    for frame_number in sorted(frame_lookup):\n",
    "        chips = frame_lookup[frame_number]\n",
    "        bname = os.path.basename(chips[0].filename)\n",
    "        xml_filename = get_xml_name(bname, frame_number)\n",
    "        if xml_filename in xml_files_lookup:\n",
    "            xml_full_filename = xml_files_lookup[xml_filename]\n",
    "            frame_image, truth_bboxes = get_bboxes_from_file(xml_full_filename)\n",
    "            found_bboxes = []\n",
    "            for chip in chips:\n",
    "                found_bboxes.append((chip.x, chip.y, chip.w, chip.h))\n",
    "            frame_ious = []\n",
    "            for truth_bbox in truth_bboxes:\n",
    "                box_ious = []\n",
    "                for chip in chips:\n",
    "                    box_ious.append(get_iou(chip, truth_bbox))\n",
    "                frame_ious.append(max(box_ious))\n",
    "            video_ious.append(np.mean(frame_ious))\n",
    "            #visualize_perf(frame_image, truth_bboxes, chips)\n",
    "            #break\n",
    "    return np.mean(video_ious)"
   ]
  },
  {
   "cell_type": "code",
   "execution_count": 41,
   "metadata": {
    "collapsed": true
   },
   "outputs": [],
   "source": [
    "frame_number = 3000\n",
    "chips = frame_lookup[frame_number]\n",
    "bname = os.path.basename(chips[0].filename)\n",
    "xml_filename = get_xml_name(bname, frame_number)"
   ]
  },
  {
   "cell_type": "code",
   "execution_count": 42,
   "metadata": {
    "collapsed": false
   },
   "outputs": [
    {
     "data": {
      "text/plain": [
       "True"
      ]
     },
     "execution_count": 42,
     "metadata": {},
     "output_type": "execute_result"
    }
   ],
   "source": [
    "xml_filename in xml_files_lookup"
   ]
  },
  {
   "cell_type": "code",
   "execution_count": 25,
   "metadata": {
    "collapsed": false
   },
   "outputs": [
    {
     "data": {
      "text/plain": [
       "False"
      ]
     },
     "execution_count": 25,
     "metadata": {},
     "output_type": "execute_result"
    }
   ],
   "source": [
    "get_xml_name(os.path.basename(frame_lookup[14340][0].filename), 14340) in xml_files_lookup"
   ]
  },
  {
   "cell_type": "code",
   "execution_count": null,
   "metadata": {
    "collapsed": false
   },
   "outputs": [
    {
     "name": "stdout",
     "output_type": "stream",
     "text": [
      "(5, 5), 5, Methods.BACKGROUND_SUB: 0.20377665195653025\n",
      "(5, 5), 5, Methods.OPENCV: 0.6079182954829871\n",
      "(5, 5), 10, Methods.BACKGROUND_SUB: 0.4296029757968663\n",
      "(5, 5), 10, Methods.OPENCV: 0.584373918897133\n",
      "(5, 5), 12, Methods.BACKGROUND_SUB: 0.47808368950878416\n",
      "(5, 5), 12, Methods.OPENCV: 0.5807517854640142\n",
      "(5, 5), 15, Methods.BACKGROUND_SUB: 0.5357553431412312\n",
      "(5, 5), 15, Methods.OPENCV: 0.5679602734960262\n",
      "(5, 5), 20, Methods.BACKGROUND_SUB: 0.6118601486912363\n",
      "(5, 5), 20, Methods.OPENCV: 0.5479004331432262\n",
      "(5, 5), 30, Methods.BACKGROUND_SUB: 0.6545387798259704\n",
      "(5, 5), 30, Methods.OPENCV: 0.5129981766403243\n",
      "(5, 5), 50, Methods.BACKGROUND_SUB: 0.5909724610090009\n",
      "(5, 5), 50, Methods.OPENCV: 0.4468784050260238\n"
     ]
    }
   ],
   "source": [
    "kernel_size = (25,25)\n",
    "threshold = 30\n",
    "chipping_method = Methods.BACKGROUND_SUB\n",
    "#chipping_method=Methods.OPENCV \n",
    "mask_modifier= None # apply_mask\n",
    "score_strings = []\n",
    "for kernel_size in [(5,5), (7,7), (9,9), (33,33)]:\n",
    "    for threshold in [5, 10,12, 15, 20, 30, 50]:\n",
    "        for chipping_method in [Methods.BACKGROUND_SUB, Methods.OPENCV]:\n",
    "            frame_lookup, chips = get_frame_lookup(fp, \n",
    "                                                   kernel_size=kernel_size,\n",
    "                            threshold=threshold, \n",
    "                            chipping_method=chipping_method)\n",
    "            score = score_frame_lookup(frame_lookup, chips)\n",
    "            print('{}, {}, {}: {}'.format(kernel_size, threshold, chipping_method, score))\n",
    "            score_strings.append('{}, {}, {}: {}'.format(kernel_size, threshold, chipping_method, score))"
   ]
  },
  {
   "cell_type": "code",
   "execution_count": 14,
   "metadata": {
    "collapsed": false
   },
   "outputs": [
    {
     "name": "stdout",
     "output_type": "stream",
     "text": [
      "Methods.OPENCV\n",
      "Methods.BACKGROUND_SUB\n"
     ]
    }
   ],
   "source": [
    "for m in Methods:\n",
    "    print(m)"
   ]
  },
  {
   "cell_type": "code",
   "execution_count": 15,
   "metadata": {
    "collapsed": false
   },
   "outputs": [
    {
     "name": "stdout",
     "output_type": "stream",
     "text": [
      "(5, 5), 5, Methods.OPENCV: 0.6079182954829871\n",
      "(5, 5), 10, Methods.OPENCV: 0.584373918897133\n",
      "(5, 5), 12, Methods.OPENCV: 0.5807517854640142\n",
      "(5, 5), 15, Methods.OPENCV: 0.5679602734960262\n",
      "(5, 5), 20, Methods.OPENCV: 0.5479004331432262\n",
      "(5, 5), 30, Methods.OPENCV: 0.5129981766403243\n",
      "(5, 5), 50, Methods.OPENCV: 0.4468784050260238\n",
      "(7, 7), 5, Methods.OPENCV: 0.6383763857018694\n",
      "(7, 7), 10, Methods.OPENCV: 0.5985662893550552\n",
      "(7, 7), 12, Methods.OPENCV: 0.5885574381525973\n",
      "(7, 7), 15, Methods.OPENCV: 0.574304704233907\n",
      "(7, 7), 20, Methods.OPENCV: 0.5600960235270905\n",
      "(7, 7), 30, Methods.OPENCV: 0.5109526569511246\n",
      "(7, 7), 50, Methods.OPENCV: 0.44988477427898066\n",
      "(9, 9), 5, Methods.OPENCV: 0.6485522067967696\n",
      "(9, 9), 10, Methods.OPENCV: 0.6157400687894344\n",
      "(9, 9), 12, Methods.OPENCV: 0.5995303234331684\n",
      "(9, 9), 15, Methods.OPENCV: 0.5844991760180644\n",
      "(9, 9), 20, Methods.OPENCV: 0.5644634882621449\n",
      "(9, 9), 30, Methods.OPENCV: 0.5220527447211238\n",
      "(9, 9), 50, Methods.OPENCV: 0.4513636869249082\n",
      "(33, 33), 5, Methods.OPENCV: 0.6476199168533492\n",
      "(33, 33), 10, Methods.OPENCV: 0.6397054234434922\n",
      "(33, 33), 12, Methods.OPENCV: 0.634903123019526\n",
      "(33, 33), 15, Methods.OPENCV: 0.6134241631835295\n",
      "(33, 33), 20, Methods.OPENCV: 0.5823672675969644\n",
      "(33, 33), 30, Methods.OPENCV: 0.5328456933505679\n",
      "(33, 33), 50, Methods.OPENCV: 0.43087055325689366\n",
      "(5, 5), 5, Methods.BACKGROUND_SUB: 0.20377665195653025\n",
      "(5, 5), 10, Methods.BACKGROUND_SUB: 0.4296029757968663\n",
      "(5, 5), 12, Methods.BACKGROUND_SUB: 0.47808368950878416\n",
      "(5, 5), 15, Methods.BACKGROUND_SUB: 0.5357553431412312\n",
      "(5, 5), 20, Methods.BACKGROUND_SUB: 0.6118601486912363\n",
      "(5, 5), 30, Methods.BACKGROUND_SUB: 0.6545387798259704\n",
      "(5, 5), 50, Methods.BACKGROUND_SUB: 0.5909724610090009\n",
      "(7, 7), 5, Methods.BACKGROUND_SUB: 0.20101813698869211\n",
      "(7, 7), 10, Methods.BACKGROUND_SUB: 0.4158125290462692\n",
      "(7, 7), 12, Methods.BACKGROUND_SUB: 0.47959609981044554\n",
      "(7, 7), 15, Methods.BACKGROUND_SUB: 0.5266763734414759\n",
      "(7, 7), 20, Methods.BACKGROUND_SUB: 0.6008939465653098\n",
      "(7, 7), 30, Methods.BACKGROUND_SUB: 0.6540148319894465\n",
      "(7, 7), 50, Methods.BACKGROUND_SUB: 0.5898394994581652\n",
      "(9, 9), 5, Methods.BACKGROUND_SUB: 0.1950247006067212\n",
      "(9, 9), 10, Methods.BACKGROUND_SUB: 0.40737919546678647\n",
      "(9, 9), 12, Methods.BACKGROUND_SUB: 0.4710354370981675\n",
      "(9, 9), 15, Methods.BACKGROUND_SUB: 0.5268793867344638\n",
      "(9, 9), 20, Methods.BACKGROUND_SUB: 0.5941130893147253\n",
      "(9, 9), 30, Methods.BACKGROUND_SUB: 0.6474707680332294\n",
      "(9, 9), 50, Methods.BACKGROUND_SUB: 0.5865428827740595\n",
      "(33, 33), 5, Methods.BACKGROUND_SUB: 0.17437091665702983\n",
      "(33, 33), 10, Methods.BACKGROUND_SUB: 0.3897483018924728\n",
      "(33, 33), 12, Methods.BACKGROUND_SUB: 0.4423088211782492\n",
      "(33, 33), 15, Methods.BACKGROUND_SUB: 0.500915685581477\n",
      "(33, 33), 20, Methods.BACKGROUND_SUB: 0.5912374822763031\n",
      "(33, 33), 30, Methods.BACKGROUND_SUB: 0.6338219385195579\n",
      "(33, 33), 50, Methods.BACKGROUND_SUB: 0.4839295718438962\n"
     ]
    }
   ],
   "source": [
    "for method in Methods:\n",
    "    for line in score_strings:\n",
    "        if str(method) in line:\n",
    "            print(line)"
   ]
  },
  {
   "cell_type": "code",
   "execution_count": null,
   "metadata": {
    "collapsed": true
   },
   "outputs": [],
   "source": [
    "p"
   ]
  }
 ],
 "metadata": {
  "anaconda-cloud": {},
  "kernelspec": {
   "display_name": "Python 3",
   "language": "python",
   "name": "python3"
  },
  "language_info": {
   "codemirror_mode": {
    "name": "ipython",
    "version": 3
   },
   "file_extension": ".py",
   "mimetype": "text/x-python",
   "name": "python",
   "nbconvert_exporter": "python",
   "pygments_lexer": "ipython3",
   "version": "3.5.2"
  }
 },
 "nbformat": 4,
 "nbformat_minor": 2
}
