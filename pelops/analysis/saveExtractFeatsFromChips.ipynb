{
 "cells": [
  {
   "cell_type": "code",
   "execution_count": null,
   "metadata": {},
   "outputs": [],
   "source": [
    "from pelops.datasets.veri import VeriDataset\n",
    "from pelops.analysis.unsorted.recompute.extract_feats_from_chips import extract_feats_from_chips\n",
    "import pelops.utils as utils\n"
   ]
  },
  {
   "cell_type": "code",
   "execution_count": null,
   "metadata": {},
   "outputs": [],
   "source": [
    "veri = VeriDataset('/local_data/dgrossman/newVeRi',set_type=utils.SetType.TRAIN.value)\n",
    "extract_feats_from_chips(veri, '/local_data/dgrossman/image_NEW_TRAIN')"
   ]
  },
  {
   "cell_type": "code",
   "execution_count": null,
   "metadata": {},
   "outputs": [],
   "source": [
    "veri = VeriDataset('/local_data/dgrossman/newVeRi',set_type=utils.SetType.TEST.value)\n",
    "extract_feats_from_chips(veri, '/local_data/dgrossman/image_NEW_TEST')"
   ]
  },
  {
   "cell_type": "code",
   "execution_count": null,
   "metadata": {},
   "outputs": [],
   "source": []
  },
  {
   "cell_type": "code",
   "execution_count": null,
   "metadata": {},
   "outputs": [],
   "source": [
    "veri = VeriDataset('/local_data/dgrossman/tinyVeRi',set_type=utils.SetType.TRAIN.value)\n",
    "extract_feats_from_chips(veri, '/local_data/dgrossman/image_NEW_TINY_TRAIN')"
   ]
  },
  {
   "cell_type": "code",
   "execution_count": null,
   "metadata": {},
   "outputs": [],
   "source": [
    "veri = VeriDataset('/local_data/dgrossman/tinyVeRi',set_type=utils.SetType.TEST.value)\n",
    "extract_feats_from_chips(veri, '/local_data/dgrossman/image_NEW_TINY_TEST')"
   ]
  },
  {
   "cell_type": "code",
   "execution_count": null,
   "metadata": {},
   "outputs": [],
   "source": []
  }
 ],
 "metadata": {
  "anaconda-cloud": {},
  "kernelspec": {
   "display_name": "Python 3",
   "language": "python",
   "name": "python3"
  },
  "language_info": {
   "codemirror_mode": {
    "name": "ipython",
    "version": 3
   },
   "file_extension": ".py",
   "mimetype": "text/x-python",
   "name": "python",
   "nbconvert_exporter": "python",
   "pygments_lexer": "ipython3",
   "version": "3.5.2"
  }
 },
 "nbformat": 4,
 "nbformat_minor": 2
}
