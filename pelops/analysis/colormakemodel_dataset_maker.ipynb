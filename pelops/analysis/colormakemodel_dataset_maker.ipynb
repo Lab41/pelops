{
 "cells": [
  {
   "cell_type": "code",
   "execution_count": null,
   "metadata": {},
   "outputs": [],
   "source": [
    "import os\n",
    "from collections import defaultdict\n",
    "from itertools import product\n",
    "import json\n",
    "from random import shuffle\n",
    "import glob\n",
    "import shutil\n",
    "import tqdm\n",
    "import json"
   ]
  },
  {
   "cell_type": "code",
   "execution_count": null,
   "metadata": {},
   "outputs": [],
   "source": [
    "color_file = './colors'\n",
    "type_file = './carTypes.csv'\n",
    "allFiles = '/local_data/dgrossman/dgCars/allFiles.no.unicode'"
   ]
  },
  {
   "cell_type": "code",
   "execution_count": null,
   "metadata": {},
   "outputs": [],
   "source": [
    "colors = list()\n",
    "a = open(color_file,'r')\n",
    "for line in a:\n",
    "    colors.append(line.strip().lower())\n",
    "a.close()"
   ]
  },
  {
   "cell_type": "code",
   "execution_count": null,
   "metadata": {},
   "outputs": [],
   "source": [
    "colors"
   ]
  },
  {
   "cell_type": "code",
   "execution_count": null,
   "metadata": {},
   "outputs": [],
   "source": [
    "def make_key(first,second):\n",
    "    return '{0}:{1}'.format(first,second)\n",
    "def make_class(c,s,t,m):\n",
    "    if c == '1': \n",
    "        return 'car'\n",
    "    if s == '1': \n",
    "        return 'suv'\n",
    "    if t == '1': \n",
    "        return 'truck'\n",
    "    if m == '1': \n",
    "        return 'minivan'\n",
    "    return 'unknown'\n",
    "class_types =['car','suv','truck','minivan']"
   ]
  },
  {
   "cell_type": "code",
   "execution_count": null,
   "metadata": {},
   "outputs": [],
   "source": [
    "\n",
    "\n",
    "\n",
    "#car2type=defaultdict(set)\n",
    "car2type = {}\n",
    "a = open(type_file,'r')\n",
    "for line in a:\n",
    "    make,model,car,suv,truck,minivan =line.strip().lower().split(',')\n",
    "    value = make_class(car,suv,truck,minivan)\n",
    "    key = make_key(make,model)\n",
    "    #car2type[key].add(value)\n",
    "    car2type[key] = value\n",
    "a.close()\n"
   ]
  },
  {
   "cell_type": "code",
   "execution_count": null,
   "metadata": {},
   "outputs": [],
   "source": [
    "color2dir = {}\n",
    "for num,col in enumerate(colors):\n",
    "    color2dir[col]= num\n",
    "\n",
    "color2dir"
   ]
  },
  {
   "cell_type": "code",
   "execution_count": null,
   "metadata": {},
   "outputs": [],
   "source": [
    "car2type"
   ]
  },
  {
   "cell_type": "code",
   "execution_count": null,
   "metadata": {},
   "outputs": [],
   "source": [
    "#types2dir = {}\n",
    "#for num,x in enumerate(product(colors,class_types)):\n",
    "#    c = x[0]\n",
    "#    t = x[1]\n",
    "#    key = make_key(c,t)\n",
    "#    types2dir[key] = num\n",
    "    \n",
    "types2dir = {}\n",
    "for num,x in enumerate(class_types):\n",
    "    types2dir[x] = num\n",
    "    "
   ]
  },
  {
   "cell_type": "code",
   "execution_count": null,
   "metadata": {},
   "outputs": [],
   "source": [
    "types2dir"
   ]
  },
  {
   "cell_type": "code",
   "execution_count": null,
   "metadata": {},
   "outputs": [],
   "source": [
    "def outfile_colorbodytype(cleaned,types2dir,car2type):\n",
    "    color = cleaned['color']\n",
    "    make = cleaned['make'].replace(' ','_').lower()\n",
    "    model = cleaned['model'].replace(' ','_').lower()\n",
    "    fnaem = cleaned['filename']\n",
    "    make_model_lookup = '{0}:{1}'.format(make,model)\n",
    "    mm = car2type[make_model_lookup]\n",
    "    if mm == 'unknown':\n",
    "        print (cleaned)\n",
    "    color_body_lookup = '{0}:{1}'.format(color,mm)\n",
    "    directory = types2dir[color_body_lookup]\n",
    "    return directory\n",
    "\n",
    "def outfile_bodytype(cleaned,types2dir,car2type):\n",
    "    color = cleaned['color']\n",
    "    make = cleaned['make'].replace(' ','_').lower()\n",
    "    model = cleaned['model'].replace(' ','_').lower()\n",
    "    fnaem = cleaned['filename']\n",
    "    make_model_lookup = '{0}:{1}'.format(make,model)\n",
    "    mm = car2type[make_model_lookup]\n",
    "    if mm == 'unknown':\n",
    "        print (cleaned)\n",
    "    directory = types2dir[mm]\n",
    "    return directory\n",
    "\n",
    "def outfile_color(cleaned,types2dir):\n",
    "    color = cleaned['color']\n",
    "    directory = types2dir[color]\n",
    "    return directory"
   ]
  },
  {
   "cell_type": "code",
   "execution_count": null,
   "metadata": {},
   "outputs": [],
   "source": [
    "af = open(allFiles,'r')\n",
    "\n",
    "directoryroot = '/local_data/dgrossman/dgCars/{0}'\n",
    "outdirectory = '/local_data/dgrossman/keras/color/train/{0}/{1}'\n",
    "for line in tqdm.tqdm(af):\n",
    "    cleaned = json.loads(line.strip())\n",
    "    #directory = outfile_outfile_colorbodytype(cleaned,types2dir,car2type)\n",
    "    #directory = outfile_bodytype(cleaned,types2dir,car2type)\n",
    "    d = outfile_color(cleaned,color2dir)\n",
    "    base_name = os.path.basename(cleaned['filename'])\n",
    "    os.symlink(directoryroot.format(cleaned['filename']),outdirectory.format(d,base_name))"
   ]
  },
  {
   "cell_type": "code",
   "execution_count": null,
   "metadata": {},
   "outputs": [],
   "source": [
    "#inv_map = {v: k for k, v in a.items()}"
   ]
  },
  {
   "cell_type": "code",
   "execution_count": null,
   "metadata": {},
   "outputs": [],
   "source": [
    "import json"
   ]
  },
  {
   "cell_type": "code",
   "execution_count": null,
   "metadata": {},
   "outputs": [],
   "source": [
    "outfile(cleaned,types2dir,car2type)"
   ]
  },
  {
   "cell_type": "code",
   "execution_count": null,
   "metadata": {},
   "outputs": [],
   "source": [
    "outfile_color(cleaned,color2dir)"
   ]
  },
  {
   "cell_type": "code",
   "execution_count": null,
   "metadata": {},
   "outputs": [],
   "source": []
  }
 ],
 "metadata": {
  "kernelspec": {
   "display_name": "Python 3",
   "language": "python",
   "name": "python3"
  },
  "language_info": {
   "codemirror_mode": {
    "name": "ipython",
    "version": 3
   },
   "file_extension": ".py",
   "mimetype": "text/x-python",
   "name": "python",
   "nbconvert_exporter": "python",
   "pygments_lexer": "ipython3",
   "version": "3.5.2"
  }
 },
 "nbformat": 4,
 "nbformat_minor": 2
}
