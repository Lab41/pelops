{
 "cells": [
  {
   "cell_type": "code",
   "execution_count": null,
   "metadata": {},
   "outputs": [],
   "source": [
    "#set some constants\n",
    "ITEMSPERCAMERA = 10\n",
    "YRANDOM=1024\n",
    "CAMERAS=2\n",
    "DROPPED=0\n",
    "CMC=100\n",
    "EXPERIMENTS=400"
   ]
  },
  {
   "cell_type": "code",
   "execution_count": null,
   "metadata": {},
   "outputs": [],
   "source": [
    "DATASETFILES = [('/local_data/dgrossman/image_body_type',4),\n",
    "                ('/local_data/dgrossman/image_color_type',10),\n",
    "                ('/local_data/dgrossman/image_color_body_type',40),\n",
    "                ('/local_data/dgrossman/image_make_model_type',1057),\n",
    "                ('/local_data/dgrossman/resnet50','-1')]\n",
    "DATASETFILES = [('/local_data/dgrossman/compcars_color',10),\n",
    "                ('/local_data/dgrossman/compcars_make_model',284),\n",
    "                ('/local_data/dgrossman/image_color_type',10),\n",
    "                ('/local_data/dgrossman/resnet50','-1')]\n",
    "DATASETFILES = [('/local_data/dgrossman/resnet50','-1')]"
   ]
  },
  {
   "cell_type": "code",
   "execution_count": null,
   "metadata": {},
   "outputs": [],
   "source": [
    "from pelops.datasets.featuredataset import FeatureDataset\n",
    "from pelops.experiment_api.experiment import ExperimentGenerator\n",
    "from pelops.analysis import analysis\n",
    "\n",
    "alldata = list()\n",
    "for datasetfile,num in DATASETFILES:\n",
    "    #do the math\n",
    "    print(datasetfile)\n",
    "    featureData = FeatureDataset(datasetfile)\n",
    "    expGen = ExperimentGenerator(featureData, CAMERAS, ITEMSPERCAMERA, DROPPED, YRANDOM)\n",
    "    experimentHolder = analysis.repeat_pre_cmc(featureData,expGen,NUMCMC=CMC,EXPPERCMC=EXPERIMENTS)\n",
    "    stats,gdata = analysis.make_cmc_stats(experimentHolder,ITEMSPERCAMERA)\n",
    "    alldata.append(gdata)"
   ]
  },
  {
   "cell_type": "code",
   "execution_count": null,
   "metadata": {},
   "outputs": [],
   "source": [
    "import numpy as np\n",
    "stats = np.zeros((100,len(DATASETFILES)))\n"
   ]
  },
  {
   "cell_type": "code",
   "execution_count": null,
   "metadata": {},
   "outputs": [],
   "source": [
    "for x in range(len(DATASETFILES)):\n",
    "    for y in range(100):\n",
    "        stats[y][x] = alldata[x][1][y]"
   ]
  },
  {
   "cell_type": "code",
   "execution_count": null,
   "metadata": {},
   "outputs": [],
   "source": [
    "%matplotlib inline\n",
    "import matplotlib.pyplot as plt\n",
    "\n",
    "#make the plots\n",
    "fig = plt.figure()\n",
    "ax = plt.subplot(111)\n",
    "\n",
    "ax.plot(stats)\n",
    "#plt.title('color: 10\\ncolor mixed with structure: 40 \\n structure only: 4, 1057\\n CMC curves with {} experiments per curve'.format(CMC,EXPERIMENTS))\n",
    "plt.title('compcars color:10\\ncompcars make model:284\\ndgcars color:10\\nuntrained resnet\\nCMC curves with {} experiments per curve'.format(CMC,EXPERIMENTS))\n",
    "plt.grid(True)\n",
    "#ax.legend(('4','10','40','1057','untrained'),bbox_to_anchor=(1, -0.05),fancybox=True, shadow=True, ncol=5)\n",
    "ax.legend(('10cc','284cc','10dg','untrained'),bbox_to_anchor=(1, -0.05),fancybox=True, shadow=True, ncol=5)"
   ]
  },
  {
   "cell_type": "code",
   "execution_count": null,
   "metadata": {},
   "outputs": [],
   "source": [
    "%matplotlib inline\n",
    "import matplotlib.pyplot as plt\n",
    "\n",
    "#make the plots\n",
    "fig = plt.figure()\n",
    "ax = plt.subplot(111)\n",
    "\n",
    "ax.plot(stats)\n",
    "plt.title('[color out performs structure]\\n CMC curves with {} experiments per curve'.format(CMC,EXPERIMENTS))\n",
    "plt.grid(True)\n",
    "ax.legend(('4','10','40','1057 classes'),bbox_to_anchor=(1, -0.05),\n",
    "          fancybox=True, shadow=True, ncol=5)"
   ]
  },
  {
   "cell_type": "code",
   "execution_count": null,
   "metadata": {},
   "outputs": [],
   "source": []
  }
 ],
 "metadata": {
  "anaconda-cloud": {},
  "kernelspec": {
   "display_name": "Python 3",
   "language": "python",
   "name": "python3"
  },
  "language_info": {
   "codemirror_mode": {
    "name": "ipython",
    "version": 3
   },
   "file_extension": ".py",
   "mimetype": "text/x-python",
   "name": "python",
   "nbconvert_exporter": "python",
   "pygments_lexer": "ipython3",
   "version": "3.5.2"
  }
 },
 "nbformat": 4,
 "nbformat_minor": 2
}
